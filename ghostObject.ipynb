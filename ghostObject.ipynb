{
 "cells": [
  {
   "cell_type": "markdown",
   "metadata": {},
   "source": [
    "# Ghost Object"
   ]
  },
  {
   "cell_type": "code",
   "execution_count": 1,
   "metadata": {},
   "outputs": [],
   "source": [
    "from funcsMain import *\n",
    "np.set_printoptions(linewidth=np.inf)\n",
    "\n",
    "p = np.load('Mass/3pos.npy')\n",
    "xsun, ysun = p[:, 0], p[:, 1]\n",
    "xjup, yjup = p[:, 2], p[:, 3]\n",
    "xsat, ysat = p[:, 4], p[:, 5]\n",
    "v = np.load('Mass/3vel.npy')\n",
    "a = np.load('Mass/3acc.npy')\n",
    "axsun, aysun = a[:, 0], a[:, 1]\n",
    "axjup, ayjup = a[:, 2], a[:, 3]\n",
    "axsat, aysat = a[:, 4], a[:, 5]"
   ]
  },
  {
   "cell_type": "markdown",
   "metadata": {},
   "source": [
    "repurposing data sets only require us to remove saturn from the data set and then run the analysis for both sat and no sat"
   ]
  },
  {
   "cell_type": "code",
   "execution_count": 2,
   "metadata": {},
   "outputs": [],
   "source": [
    "pn = np.delete(p, [4, 5], 1)\n",
    "an = np.delete(a, [4, 5], 1)"
   ]
  },
  {
   "cell_type": "code",
   "execution_count": 3,
   "metadata": {},
   "outputs": [
    {
     "name": "stdout",
     "output_type": "stream",
     "text": [
      "x1'' = 0.038 f0(x0,x1,x2,x3)\n",
      "y1'' = 0.038 f1(x0,x1,x2,x3)\n",
      "x2'' = -39.478 f0(x0,x1,x2,x3)\n",
      "y2'' = -39.478 f1(x0,x1,x2,x3)\n",
      "[[ 3.76849691e-02  0.00000000e+00]\n",
      " [ 0.00000000e+00  3.76897562e-02]\n",
      " [-3.94783829e+01  0.00000000e+00]\n",
      " [ 0.00000000e+00 -3.94783427e+01]]\n"
     ]
    }
   ],
   "source": [
    "coef3 = sindy(2, pn, an, 1e-2)"
   ]
  },
  {
   "cell_type": "markdown",
   "metadata": {},
   "source": [
    "Now importing a dataset without sat"
   ]
  },
  {
   "cell_type": "code",
   "execution_count": 4,
   "metadata": {},
   "outputs": [],
   "source": [
    "pm = np.load('Mass/2pos.npy')\n",
    "xms, yms = pm[:, 0], pm[:, 1]\n",
    "xmj, ymj = pm[:, 2], pm[:, 3]\n",
    "vm = np.load('Mass/2vel.npy')\n",
    "am = np.load('Mass/2acc.npy')\n",
    "amxs, amys = am[:, 0], am[:, 1]\n",
    "amxj, amyj = am[:, 2], am[:, 3]"
   ]
  },
  {
   "cell_type": "code",
   "execution_count": 5,
   "metadata": {},
   "outputs": [
    {
     "name": "stdout",
     "output_type": "stream",
     "text": [
      "x1'' = 0.038 f0(x0,x1,x2,x3)\n",
      "y1'' = 0.038 f1(x0,x1,x2,x3)\n",
      "x2'' = -39.480 f0(x0,x1,x2,x3)\n",
      "y2'' = -39.480 f1(x0,x1,x2,x3)\n",
      "[[ 3.76859381e-02  0.00000000e+00]\n",
      " [ 0.00000000e+00  3.76859416e-02]\n",
      " [-3.94797030e+01  0.00000000e+00]\n",
      " [ 0.00000000e+00 -3.94797067e+01]]\n"
     ]
    }
   ],
   "source": [
    "coef2 = sindy(2, pm, am, 1e-2)"
   ]
  },
  {
   "cell_type": "markdown",
   "metadata": {},
   "source": [
    "To figure out if there is another body we'll calculate if there is a difference between the results:"
   ]
  },
  {
   "cell_type": "code",
   "execution_count": 6,
   "metadata": {},
   "outputs": [
    {
     "data": {
      "text/plain": [
       "array([[9.68949264e-07, 0.00000000e+00],\n",
       "       [0.00000000e+00, 3.81459574e-06],\n",
       "       [1.32005700e-03, 0.00000000e+00],\n",
       "       [0.00000000e+00, 1.36398459e-03]])"
      ]
     },
     "execution_count": 6,
     "metadata": {},
     "output_type": "execute_result"
    }
   ],
   "source": [
    "np.abs(coef2 - coef3)"
   ]
  },
  {
   "cell_type": "markdown",
   "metadata": {},
   "source": [
    "Percentage difference:"
   ]
  },
  {
   "cell_type": "code",
   "execution_count": 7,
   "metadata": {},
   "outputs": [
    {
     "name": "stderr",
     "output_type": "stream",
     "text": [
      "<ipython-input-7-3c3cf21058f0>:1: RuntimeWarning: invalid value encountered in true_divide\n",
      "  (np.abs(coef2 - coef3)/(coef2 + coef3)/2)*100\n"
     ]
    },
    {
     "data": {
      "text/plain": [
       "array([[ 0.00064279,         nan],\n",
       "       [        nan,  0.00253039],\n",
       "       [-0.00083592,         nan],\n",
       "       [        nan, -0.00086374]])"
      ]
     },
     "execution_count": 7,
     "metadata": {},
     "output_type": "execute_result"
    }
   ],
   "source": [
    "(np.abs(coef2 - coef3)/(coef2 + coef3)/2)*100"
   ]
  },
  {
   "cell_type": "code",
   "execution_count": 8,
   "metadata": {},
   "outputs": [
    {
     "name": "stderr",
     "output_type": "stream",
     "text": [
      "C:\\Users\\tobiaha\\Google Drev\\Skole\\RUC\\6. Semester\\Bachelor Projekt\\Code\\SolarSINDy\\funcsMain.py:88: RuntimeWarning: invalid value encountered in true_divide\n",
      "  perdiff = (np.abs(a2 - a1)/(a2 + a1)/2)*100\n"
     ]
    },
    {
     "data": {
      "text/plain": [
       "array([[ 0.00064279,         nan],\n",
       "       [        nan,  0.00253039],\n",
       "       [-0.00083592,         nan],\n",
       "       [        nan, -0.00086374]])"
      ]
     },
     "execution_count": 8,
     "metadata": {},
     "output_type": "execute_result"
    }
   ],
   "source": [
    "perdiff(coef2, coef3)"
   ]
  },
  {
   "cell_type": "markdown",
   "metadata": {},
   "source": [
    "Not the largest difference, but a difference indeed. \n",
    "\n",
    "Just to be sure, we'll try by taking the difference in the acc directly"
   ]
  },
  {
   "cell_type": "code",
   "execution_count": 9,
   "metadata": {},
   "outputs": [],
   "source": [
    "a2 = f_2(pm, coef2)\n",
    "a3 = f_2(pn, coef3)"
   ]
  },
  {
   "cell_type": "code",
   "execution_count": 10,
   "metadata": {},
   "outputs": [
    {
     "data": {
      "text/plain": [
       "array([[2.31053554e-12, 4.62107231e-12, 6.93161122e-12, ..., 2.16066680e-04, 2.16070973e-04, 2.16075267e-04],\n",
       "       [1.55675606e-07, 1.55675599e-07, 1.55675588e-07, ..., 1.17177222e-04, 1.17167047e-04, 1.17156872e-04],\n",
       "       [3.14777938e-09, 6.29556006e-09, 9.44334298e-09, ..., 2.26355359e-01, 2.26359856e-01, 2.26364354e-01],\n",
       "       [5.56649147e-05, 5.56649216e-05, 5.56649317e-05, ..., 1.22588922e-01, 1.22578259e-01, 1.22567596e-01]])"
      ]
     },
     "execution_count": 10,
     "metadata": {},
     "output_type": "execute_result"
    }
   ],
   "source": [
    "np.abs(a2 - a3)"
   ]
  },
  {
   "cell_type": "code",
   "execution_count": 11,
   "metadata": {},
   "outputs": [
    {
     "data": {
      "text/plain": [
       "array([[ 6.42787398e-04,  2.53038829e-03, -8.35922700e-04, -8.63740107e-04],\n",
       "       [ 6.42787567e-04,  2.53038818e-03, -8.35922869e-04, -8.63740216e-04],\n",
       "       [ 6.42787822e-04,  2.53038802e-03, -8.35923124e-04, -8.63740378e-04],\n",
       "       ...,\n",
       "       [ 8.29355196e+00, -2.64792300e+00, -8.29373978e+00,  2.64453837e+00],\n",
       "       [ 8.29442790e+00, -2.64762313e+00, -8.29461572e+00,  2.64423850e+00],\n",
       "       [ 8.29530399e+00, -2.64732328e+00, -8.29549181e+00,  2.64393865e+00]])"
      ]
     },
     "execution_count": 11,
     "metadata": {},
     "output_type": "execute_result"
    }
   ],
   "source": [
    "((np.abs(a2 - a3)/(a2 + a3)/2)*100).T"
   ]
  },
  {
   "cell_type": "code",
   "execution_count": 12,
   "metadata": {},
   "outputs": [
    {
     "data": {
      "text/plain": [
       "array([[6.12331504e-08, 1.38036343e-12, 6.12331504e-08, 6.74216238e-12],\n",
       "       [1.22466301e-07, 4.14109029e-12, 1.22466301e-07, 2.02255990e-11],\n",
       "       [1.83699451e-07, 8.28218057e-12, 1.83699452e-07, 4.04503098e-11],\n",
       "       ...,\n",
       "       [1.07296369e-03, 5.26027265e-04, 8.76969680e-01, 5.37111084e-01],\n",
       "       [1.07292836e-03, 5.25978974e-04, 8.76996718e-01, 5.37065952e-01],\n",
       "       [1.07289303e-03, 5.25930683e-04, 8.77023753e-01, 5.37020820e-01]])"
      ]
     },
     "execution_count": 12,
     "metadata": {},
     "output_type": "execute_result"
    }
   ],
   "source": [
    "np.abs(pn - pm)"
   ]
  },
  {
   "cell_type": "code",
   "execution_count": 13,
   "metadata": {},
   "outputs": [
    {
     "data": {
      "text/plain": [
       "array([[-4.99538633e+00,  2.14742196e+00,  5.29826308e-03,  3.40506374e-11],\n",
       "       [-4.99538634e+00,  2.14742196e+00,  5.29826309e-03,  1.02147427e-10],\n",
       "       [-4.99538635e+00,  2.14742196e+00,  5.29826311e-03,  2.04290371e-10],\n",
       "       ...,\n",
       "       [-1.07998929e+01,  1.43708702e+00,  8.04414863e+00, -2.90053389e+00],\n",
       "       [-1.08003324e+01,  1.43693463e+00,  8.04505660e+00, -2.90020293e+00],\n",
       "       [-1.08007719e+01,  1.43678224e+00,  8.04596470e+00, -2.89987199e+00]])"
      ]
     },
     "execution_count": 13,
     "metadata": {},
     "output_type": "execute_result"
    }
   ],
   "source": [
    "(np.abs(pn - pm)/(pn + pm)/2)*100"
   ]
  },
  {
   "cell_type": "code",
   "execution_count": 14,
   "metadata": {},
   "outputs": [
    {
     "data": {
      "text/plain": [
       "array([[-3.37065098e-07,  1.67601886e-11,  2.88899687e-04,  4.95009998e+00],\n",
       "       [-6.74130195e-07,  5.02805658e-11,  5.77799374e-04,  4.95009995e+00],\n",
       "       [-1.01119529e-06,  1.00561132e-10,  8.66699058e-04,  4.95009990e+00],\n",
       "       ...,\n",
       "       [-1.94725503e-03,  9.41394286e-03,  2.28700458e+00, -4.89797124e+00],\n",
       "       [-1.94708985e-03,  9.41404904e-03,  2.28676748e+00, -4.89808793e+00],\n",
       "       [-1.94692466e-03,  9.41415521e-03,  2.28653038e+00, -4.89820460e+00]])"
      ]
     },
     "execution_count": 14,
     "metadata": {},
     "output_type": "execute_result"
    }
   ],
   "source": [
    "pn"
   ]
  },
  {
   "cell_type": "code",
   "execution_count": 15,
   "metadata": {},
   "outputs": [
    {
     "data": {
      "text/plain": [
       "array([[-2.75831947e-07,  1.53798252e-11,  2.88960920e-04,  4.95009998e+00],\n",
       "       [-5.51663894e-07,  4.61394755e-11,  5.77921840e-04,  4.95009995e+00],\n",
       "       [-8.27495839e-07,  9.22789510e-11,  8.66882757e-04,  4.95009990e+00],\n",
       "       ...,\n",
       "       [-3.02021872e-03,  8.88791560e-03,  3.16397426e+00, -4.36086015e+00],\n",
       "       [-3.02001821e-03,  8.88807007e-03,  3.16376420e+00, -4.36102197e+00],\n",
       "       [-3.01981769e-03,  8.88822452e-03,  3.16355414e+00, -4.36118378e+00]])"
      ]
     },
     "execution_count": 15,
     "metadata": {},
     "output_type": "execute_result"
    }
   ],
   "source": [
    "pm"
   ]
  },
  {
   "cell_type": "code",
   "execution_count": 16,
   "metadata": {},
   "outputs": [
    {
     "data": {
      "text/plain": [
       "array([[-3.37065098e-07,  1.67601886e-11,  2.88899687e-04,  4.95009998e+00,  2.14451585e-04,  9.04120000e+00],\n",
       "       [-6.74130195e-07,  5.02805658e-11,  5.77799374e-04,  4.95009995e+00,  4.28903171e-04,  9.04119999e+00],\n",
       "       [-1.01119529e-06,  1.00561132e-10,  8.66699058e-04,  4.95009990e+00,  6.43354756e-04,  9.04119997e+00],\n",
       "       ...,\n",
       "       [-1.94725503e-03,  9.41394286e-03,  2.28700458e+00, -4.89797124e+00, -8.25171724e-01,  8.99459540e+00],\n",
       "       [-1.94708985e-03,  9.41404904e-03,  2.28676748e+00, -4.89808793e+00, -8.24957804e-01,  8.99461363e+00],\n",
       "       [-1.94692466e-03,  9.41415521e-03,  2.28653038e+00, -4.89820460e+00, -8.24743885e-01,  8.99463185e+00]])"
      ]
     },
     "execution_count": 16,
     "metadata": {},
     "output_type": "execute_result"
    }
   ],
   "source": [
    "p"
   ]
  },
  {
   "cell_type": "code",
   "execution_count": 17,
   "metadata": {},
   "outputs": [
    {
     "data": {
      "text/plain": [
       "array([[ 6.42787398e-04,  2.53038829e-03, -8.35922700e-04, -8.63740107e-04],\n",
       "       [ 6.42787567e-04,  2.53038818e-03, -8.35922869e-04, -8.63740216e-04],\n",
       "       [ 6.42787822e-04,  2.53038802e-03, -8.35923124e-04, -8.63740378e-04],\n",
       "       ...,\n",
       "       [ 8.29355196e+00, -2.64792300e+00, -8.29373978e+00,  2.64453837e+00],\n",
       "       [ 8.29442790e+00, -2.64762313e+00, -8.29461572e+00,  2.64423850e+00],\n",
       "       [ 8.29530399e+00, -2.64732328e+00, -8.29549181e+00,  2.64393865e+00]])"
      ]
     },
     "execution_count": 17,
     "metadata": {},
     "output_type": "execute_result"
    }
   ],
   "source": [
    "perdiff(a2, a3).T"
   ]
  },
  {
   "cell_type": "code",
   "execution_count": 18,
   "metadata": {},
   "outputs": [
    {
     "data": {
      "text/plain": [
       "3.5577869021208174e-08"
      ]
     },
     "execution_count": 18,
     "metadata": {},
     "output_type": "execute_result"
    }
   ],
   "source": [
    "err(an, a3.T)"
   ]
  },
  {
   "cell_type": "code",
   "execution_count": 19,
   "metadata": {},
   "outputs": [
    {
     "data": {
      "text/plain": [
       "2.8902225444126497e-09"
      ]
     },
     "execution_count": 19,
     "metadata": {},
     "output_type": "execute_result"
    }
   ],
   "source": [
    "err(am, a2.T)"
   ]
  },
  {
   "cell_type": "code",
   "execution_count": null,
   "metadata": {},
   "outputs": [],
   "source": []
  },
  {
   "cell_type": "code",
   "execution_count": null,
   "metadata": {},
   "outputs": [],
   "source": []
  }
 ],
 "metadata": {
  "kernelspec": {
   "display_name": "Python 3",
   "language": "python",
   "name": "python3"
  },
  "language_info": {
   "codemirror_mode": {
    "name": "ipython",
    "version": 3
   },
   "file_extension": ".py",
   "mimetype": "text/x-python",
   "name": "python",
   "nbconvert_exporter": "python",
   "pygments_lexer": "ipython3",
   "version": "3.8.5"
  }
 },
 "nbformat": 4,
 "nbformat_minor": 4
}
