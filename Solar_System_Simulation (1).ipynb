{
 "cells": [
  {
   "cell_type": "code",
   "execution_count": 1,
   "metadata": {},
   "outputs": [],
   "source": [
    "import numpy as np\n",
    "from math import *\n",
    "from numba import njit\n",
    "np.set_printoptions(linewidth=np.inf)\n",
    "\n",
    "from matplotlib import pyplot as plt\n",
    "#%matplotlib notebook"
   ]
  },
  {
   "cell_type": "markdown",
   "metadata": {},
   "source": [
    "# Simulation of Solar System - Sun-Jupiter-Saturn\n",
    "\n",
    "------------\n",
    "This code generates data for a planetary system of max three bodies. The properties of the bodies in the system, are taken from empirical data. These are the poperties the Sun, Jupiter and Saturn in our solar system.\n",
    "\n",
    "It is possible to run this simulation with both two bodies (Sun-Jupiter) or with three bodies (Sun-Jupiter-Saturn). The only part one needs to change in the Simulation is the number of interacting bodies in the system `num_bodies`."
   ]
  },
  {
   "cell_type": "markdown",
   "metadata": {},
   "source": [
    "### Physical  constants\n",
    "\n",
    "First and foremost some general physical constants are defined and scaled to astronomical size. These constants are used in later equations. \n",
    "\n",
    "We have the gravitational constant `G` which is in units of $\\text{AU}^{3} \\text{solarmasses}^{-1} \\text{years}^{-2}$. Next we have one solar mass `M` in the units of kilograms."
   ]
  },
  {
   "cell_type": "code",
   "execution_count": 2,
   "metadata": {},
   "outputs": [],
   "source": [
    "G = 39.47970417034628\n",
    "M = 1.98855e30 "
   ]
  },
  {
   "cell_type": "markdown",
   "metadata": {},
   "source": [
    "###  Structure of the System\n",
    "\n",
    "We start by determining the number of bodies `num_bodies` that will be in the system. For this simulation, you can either choose to have two or three interacting bodies - this is up to the reader. Next we define the number of dimensions.\n",
    "\n",
    "--------------\n",
    "\n",
    "We deine a number of arrays of zeroes for respectively the position, velocity, acceleration, force and mass. We also had to write up some arrays which hold some of the initial properties of system - the initial velocity `init_vel`, perihelion distance `rp`, aphelion distance `ra`, semi-major axis `a` and eccintricity `e`. This is to place our simulated data into."
   ]
  },
  {
   "cell_type": "code",
   "execution_count": 3,
   "metadata": {},
   "outputs": [],
   "source": [
    "num_bodies = 3\n",
    "dimension  = 3\n",
    "\n",
    "# Main Arrays\n",
    "pos   = np.zeros((num_bodies, dimension))\n",
    "vel   = np.zeros((num_bodies, dimension))\n",
    "acc   = np.zeros((num_bodies, dimension))\n",
    "force = np.zeros((num_bodies, dimension))\n",
    "mass  = np.zeros((num_bodies))\n",
    "\n",
    "# Initial Properties\n",
    "init_vel = np.zeros((num_bodies))\n",
    "rp       = np.zeros((num_bodies))\n",
    "ra       = np.zeros((num_bodies))\n",
    "a        = np.zeros((num_bodies))\n",
    "e        = np.zeros((num_bodies))"
   ]
  },
  {
   "cell_type": "markdown",
   "metadata": {},
   "source": [
    "### Planetary System Properties\n",
    "\n",
    "Next we define the statements of the system. We define properties of each body in the system, where the 0'th element in every array, refers to the Sun, the 1'st element refers to Jupiter and the 2'nd element refers to Saturn. All these data are radically available on the internet.\n",
    "\n",
    "Note that the velocities are placed orthogonal to the positions."
   ]
  },
  {
   "cell_type": "code",
   "execution_count": 4,
   "metadata": {},
   "outputs": [],
   "source": [
    "# Sun\n",
    "mass[0] = 1.98855e30/M\n",
    "\n",
    "# Jupiter\n",
    "mass[1] = 1.8982e27/M \n",
    "rp[1]   = 4.9501\n",
    "ra[1]   = 5.4588\n",
    "a[1]    = (rp[1]+ra[1])/2\n",
    "e[1]    = 0.0489\n",
    "\n",
    "# Saturn\n",
    "if num_bodies > 2:\n",
    "    mass[2] = 5.6834e26/M \n",
    "    rp[2]   = 9.0412\n",
    "    ra[2]   = 10.1238\n",
    "    a[2]    = (rp[2]+ra[2])/2\n",
    "    e[2]    = 0.0565"
   ]
  },
  {
   "cell_type": "code",
   "execution_count": 5,
   "metadata": {},
   "outputs": [
    {
     "name": "stdout",
     "output_type": "stream",
     "text": [
      "masses:\n",
      "[1.00000000e+00 9.54564884e-04 2.85806241e-04]\n",
      "initial positions:\n",
      "[[0.     0.     0.    ]\n",
      " [0.     4.9501 0.    ]\n",
      " [0.     9.0412 0.    ]]\n",
      "initial velocities:\n",
      "[[-0.00337065  0.          0.        ]\n",
      " [ 2.88899687  0.          0.        ]\n",
      " [ 2.14451585  0.          0.        ]]\n"
     ]
    }
   ],
   "source": [
    "# Initial Velocities\n",
    "for m in range(1,num_bodies):\n",
    "    init_vel[m] = np.sqrt(((G*mass[0])/(a[m]))*((1+e[m])/(1-e[m])))\n",
    "\n",
    "pos[:,1] = rp\n",
    "vel[:,0] = init_vel\n",
    "\n",
    "# Velocity of the Center of Mass\n",
    "CM_vel_x = np.sum((vel[:,0]*mass))/np.sum(mass)\n",
    "vel[:,0] = vel[:,0]-CM_vel_x\n",
    "\n",
    "print('masses:')\n",
    "print(mass)\n",
    "print('initial positions:')\n",
    "print(pos)\n",
    "print('initial velocities:')\n",
    "print(vel)"
   ]
  },
  {
   "cell_type": "markdown",
   "metadata": {},
   "source": [
    "### Force Function\n",
    "\n",
    "Next we have to define the force each body has on every other body in the system. To do this we define a function `grav_force` which has elements of position, mass and force. We define `num_bodies` and `D` to be the magnitudes of `pos`'s dimentions.\n",
    "\n",
    "We make a loop where for the i'th element in `num_bodies` we define a three dimentional array of zeros. Then we can calculate the force on the i'th element from every other element. This is done by a loop where we look at the j'th element in `num_bodies` for which is not equal to i. From here it is possible to calculate `force[i]` from Newtons law of Universal Gravitation."
   ]
  },
  {
   "cell_type": "code",
   "execution_count": 6,
   "metadata": {},
   "outputs": [],
   "source": [
    "@njit\n",
    "def grav_force(pos, mass, force): \n",
    "    num_bodies, D = pos.shape \n",
    "    for i in np.arange(num_bodies): \n",
    "        force[i] = np.zeros(D) \n",
    "        \n",
    "        for j in np.arange(num_bodies):\n",
    "            if j!=i:\n",
    "                r_vec = pos[i]-pos[j]\n",
    "                r_mag = np.linalg.norm(r_vec)\n",
    "                r_hat = r_vec/r_mag\n",
    "                force[i] += (-G*mass[i]*mass[j])/(r_mag**2)*r_hat"
   ]
  },
  {
   "cell_type": "markdown",
   "metadata": {},
   "source": [
    "### Leapfrog Function\n",
    "\n",
    "The next order of buisness is to define the Leapfrog function. This is the primary function , which will allow one to calculate the positions and velocities for each interacting body in the system. The setup mimics the same idea that we write upsome arrays for times, positions, velocities and accelerations. Next we calculatethe positions and velocities in a for loop using the equations from the Leapfrog method. A detailed explaination of the assumptions and setup of the Leapfrog method can be seen in the project assosiated with this code."
   ]
  },
  {
   "cell_type": "code",
   "execution_count": 7,
   "metadata": {},
   "outputs": [],
   "source": [
    "@njit\n",
    "def leapfrog(pos, mass, vel, force, sim_time, dt, outsteps):\n",
    "    num_steps = ceil((sim_time/dt)/outsteps)\n",
    "    num_bodies, D = pos.shape\n",
    "\n",
    "    times = np.zeros((num_steps))\n",
    "    positions = np.zeros((num_steps, num_bodies, D))\n",
    "    velocities = np.zeros((num_steps, num_bodies, D))\n",
    "    accelerations = np.zeros((num_steps, num_bodies, D))\n",
    "    time = 0\n",
    "    \n",
    "    for step in range(num_steps):\n",
    "        for i in range(outsteps):\n",
    "            time += dt\n",
    "            grav_force(pos, mass, force)\n",
    "            acc = (force.T/mass).T\n",
    "            vel += acc*dt\n",
    "            pos += vel*dt\n",
    "        \n",
    "        times[step] = time \n",
    "        positions[step] = pos\n",
    "        velocities[step] = vel\n",
    "        accelerations[step] = acc\n",
    "    \n",
    "    return times, positions, velocities, accelerations"
   ]
  },
  {
   "cell_type": "code",
   "execution_count": 8,
   "metadata": {},
   "outputs": [
    {
     "name": "stdout",
     "output_type": "stream",
     "text": [
      "Wall time: 5.72 s\n"
     ]
    }
   ],
   "source": [
    "times, positions, velocities, accelerations = leapfrog(pos, mass, vel, acc, 100, 1e-4, 10)\n",
    "\n",
    "%time _ = leapfrog(pos, mass, vel, acc, 100, 1e-4, 10)"
   ]
  },
  {
   "cell_type": "markdown",
   "metadata": {},
   "source": [
    "### Plot the Positions of the System\n",
    "This code is for plotting the positions of the data - one can change the amount of time the simulation will have to run, in the cell above."
   ]
  },
  {
   "cell_type": "code",
   "execution_count": 9,
   "metadata": {
    "scrolled": false
   },
   "outputs": [
    {
     "name": "stdout",
     "output_type": "stream",
     "text": [
      "num_bodies: 3\n"
     ]
    },
    {
     "data": {
      "text/plain": [
       "(100000, 3, 3)"
      ]
     },
     "execution_count": 9,
     "metadata": {},
     "output_type": "execute_result"
    },
    {
     "data": {
      "image/png": "[encoded data removed]",
      "text/plain": [
       "<Figure size 432x432 with 1 Axes>"
      ]
     },
     "metadata": {
      "needs_background": "light"
     },
     "output_type": "display_data"
    }
   ],
   "source": [
    "print('num_bodies:',num_bodies)\n",
    "\n",
    "plt.figure(figsize=(6, 6))\n",
    "ax3 = plt.subplot(111)\n",
    "ax3.plot(positions[:,:,0],positions[:,:,1],'-')\n",
    "ax3.set_title('Measurements of Jupiter and the Sun')\n",
    "plt.legend(['Sun', \"Jupiter\", 'Saturn'], loc='upper right')\n",
    "\n",
    "plt.xlabel(\"AU\")\n",
    "plt.ylabel(\"AU\")\n",
    "\n",
    "plt.savefig(\"x.png\")\n",
    "\n",
    "positions.shape"
   ]
  },
  {
   "cell_type": "markdown",
   "metadata": {},
   "source": [
    "### Save generated data\n",
    "\n",
    "The following code saves the data. It is saved as \"x\" and an abbreviation of positions, velocities and acceleration, to wherever this file is located on ones computer."
   ]
  },
  {
   "cell_type": "code",
   "execution_count": 10,
   "metadata": {},
   "outputs": [],
   "source": [
    "xpos = np.array([positions[:,0,0],positions[:,0,1],positions[:,1,0],positions[:,1,1]]) \n",
    "xpos = xpos.T\n",
    "xvel = np.array([velocities[:,0,0],velocities[:,0,1],velocities[:,1,0],velocities[:,1,1]]) \n",
    "xvel = xvel.T\n",
    "xacc = np.array([accelerations[:,0,0],accelerations[:,0,1],accelerations[:,1,0],accelerations[:,1,1]]) \n",
    "xacc = xacc.T\n",
    "\n",
    "if num_bodies > 2:\n",
    "    xpos = np.array([positions[:,0,0],positions[:,0,1],positions[:,1,0],positions[:,1,1],positions[:,2,0],positions[:,2,1]])\n",
    "    xpos = xpos.T\n",
    "    xvel = np.array([velocities[:,0,0],velocities[:,0,1],velocities[:,1,0],velocities[:,1,1],velocities[:,2,0],velocities[:,2,1]])\n",
    "    xvel = xvel.T\n",
    "    xacc = np.array([accelerations[:,0,0],accelerations[:,0,1],accelerations[:,1,0],accelerations[:,1,1],accelerations[:,2,0],accelerations[:,2,1]])\n",
    "    xacc = xacc.T\n",
    "\n",
    "np.save('xpos.npy', xpos)\n",
    "np.save('xvel.npy', xvel)\n",
    "np.save('xacc.npy', xacc)"
   ]
  }
 ],
 "metadata": {
  "kernelspec": {
   "display_name": "Python 3",
   "language": "python",
   "name": "python3"
  },
  "language_info": {
   "codemirror_mode": {
    "name": "ipython",
    "version": 3
   },
   "file_extension": ".py",
   "mimetype": "text/x-python",
   "name": "python",
   "nbconvert_exporter": "python",
   "pygments_lexer": "ipython3",
   "version": "3.7.6"
  }
 },
 "nbformat": 4,
 "nbformat_minor": 4
}
