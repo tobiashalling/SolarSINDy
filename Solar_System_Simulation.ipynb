{
 "cells": [
  {
   "cell_type": "code",
   "execution_count": 1,
   "metadata": {},
   "outputs": [],
   "source": [
    "import numpy as np\n",
    "from math import *\n",
    "from numba import njit\n",
    "\n",
    "from matplotlib import pyplot as plt\n",
    "%matplotlib notebook"
   ]
  },
  {
   "cell_type": "markdown",
   "metadata": {},
   "source": [
    "### Physical  constants\n",
    "\n",
    "First and foremost some general physical constants are defined and scaled to astronomical size. These constants are used in later equations. \n",
    "\n",
    "We have the gravitational constant `G` which is in units of $\\text{AU}^{3} \\text{solarmasses}^{-1} \\text{years}^{-2}$. Next we have one solar mass `M` in the units of kilograms."
   ]
  },
  {
   "cell_type": "code",
   "execution_count": 2,
   "metadata": {},
   "outputs": [],
   "source": [
    "G = 39.47970417034628\n",
    "M = 1.98855e30 "
   ]
  },
  {
   "cell_type": "markdown",
   "metadata": {},
   "source": [
    "###  Structure of the System\n",
    "\n",
    "We start by determining the number of bodies `num_bodies` that will be in the system. This is done by executing the first command `np.int(np.random.uniform())` which will return a random integer between 6 and 9. Next we define the number of dimensions the system will have and set that to three.\n",
    "\n",
    "--------------\n",
    "\n",
    "For our groups we need to define some values. This means that one needs to define a number of arrays of zeroes for respectively the position, velocity, acceleration, force and mass. This is to place our simulated data into."
   ]
  },
  {
   "cell_type": "code",
   "execution_count": 3,
   "metadata": {},
   "outputs": [],
   "source": [
    "num_bodies = 3\n",
    "dimension  = 3\n",
    "\n",
    "# Main Arrays\n",
    "pos   = np.zeros((num_bodies, dimension))\n",
    "vel   = np.zeros((num_bodies, dimension))\n",
    "acc   = np.zeros((num_bodies, dimension))\n",
    "force = np.zeros((num_bodies, dimension))\n",
    "\n",
    "mass     = np.zeros((num_bodies))\n",
    "init_vel = np.zeros((num_bodies))\n",
    "rp       = np.zeros((num_bodies))\n",
    "ra       = np.zeros((num_bodies))\n",
    "a        = np.zeros((num_bodies))\n",
    "e        = np.zeros((num_bodies))\n",
    "\n",
    "# Arrays for plotting\n",
    "inpos = np.zeros((num_bodies, dimension))\n",
    "invel = np.zeros((num_bodies, dimension))"
   ]
  },
  {
   "cell_type": "markdown",
   "metadata": {},
   "source": [
    "### Plot the initial Positions\n",
    "\n",
    "The code below Plots the initial positions that we just defined in the previous cell."
   ]
  },
  {
   "cell_type": "code",
   "execution_count": 4,
   "metadata": {},
   "outputs": [
    {
     "name": "stdout",
     "output_type": "stream",
     "text": [
      "masses\n",
      "[1.00000000e+00 9.54564884e-04 2.85806241e-04]\n",
      "initial positions\n",
      "[[0.      0.      0.     ]\n",
      " [0.      5.20445 0.     ]\n",
      " [0.      9.5825  0.     ]]\n",
      "initial velocities\n",
      "[[-0.00337065  0.          0.        ]\n",
      " [ 2.88899687  0.          0.        ]\n",
      " [ 2.14451585  0.          0.        ]]\n"
     ]
    }
   ],
   "source": [
    "# Planetary Masses \n",
    "mass[0] = 1.98855e30/M       # Sun\n",
    "mass[1] = 1.8982e27/M       # Jupiter\n",
    "mass[2] = 5.6834e26/M       # Saturn\n",
    "\n",
    "# Planetary Distances \n",
    "# Jupiter \n",
    "rp[1] = 4.9501\n",
    "ra[1] = 5.4588\n",
    "a[1] = (rp[1]+ra[1])/2\n",
    "\n",
    "# Saturn\n",
    "rp[2] = 9.0412\n",
    "ra[2] = 10.1238\n",
    "a[2] = (rp[2]+ra[2])/2\n",
    "    \n",
    "\n",
    "\n",
    "# Orbital Eccentricities\n",
    "e[1] = 0.0489              # Jupiter \n",
    "e[2] = 0.0565              # Saturn\n",
    "\n",
    "# Initial Velocities\n",
    "#for m in range(1,num_bodies):\n",
    "#    init_vel[m] = np.sqrt(G*mass[0]*((2*rp[m])/(ra[m]*(rp[m]+ra[m]))))\n",
    "\n",
    "# Initial Velocities\n",
    "#for m in range(1,num_bodies):\n",
    " #   init_vel[m] = np.sqrt(G*mass[0]*((2/a[m])-(1/r_a[m])))\n",
    "    \n",
    "# Initial Velocities\n",
    "for m in range(1,num_bodies):\n",
    "    init_vel[m] = np.sqrt(((G*mass[0])/(a[m]))*((1+e[m])/(1-e[m])))\n",
    "    \n",
    "\n",
    "pos[:,1] = a\n",
    "vel[:,0] = init_vel\n",
    "\n",
    "# Velocity of the Center of Mass\n",
    "CM_vel_x = np.sum((vel[:,0]*mass))/np.sum(mass)\n",
    "vel[:,0] = vel[:,0]-CM_vel_x\n",
    "\n",
    "print('masses')\n",
    "print(mass)\n",
    "print('initial positions')\n",
    "print(pos)\n",
    "print('initial velocities')\n",
    "print(vel)"
   ]
  },
  {
   "cell_type": "markdown",
   "metadata": {},
   "source": [
    "### Force Function\n",
    "\n",
    "Next we have to define the force each body has on every other body in the system. To do this we define a function `grav_force` which has elements of position, mass and force. We define `num_bodies` and `D` to be the magnitudes of `pos`'s dimentions.\n",
    "\n",
    "We make a loop where for the i'th element in `num_bodies` we define a three dimentional array of zeros. Then we can calculate the force on the i'th element from every other element. This is done by a loop where we look at the j'th element in `num_bodies` for which is not equal to i. From here it is possible to calculate `force[i]` from Newtons law of Universal Gravitation."
   ]
  },
  {
   "cell_type": "code",
   "execution_count": 5,
   "metadata": {},
   "outputs": [],
   "source": [
    "@njit\n",
    "def grav_force(pos, mass, force): \n",
    "    num_bodies, D = pos.shape \n",
    "    for i in np.arange(num_bodies): \n",
    "        force[i] = np.zeros(D) \n",
    "        \n",
    "        for j in np.arange(num_bodies):\n",
    "            if j!=i:\n",
    "                r_vec = pos[i]-pos[j]\n",
    "                r_mag = np.linalg.norm(r_vec)\n",
    "                r_hat = r_vec/r_mag\n",
    "                force[i] += (-G*mass[i]*mass[j])/(r_mag**2)*r_hat"
   ]
  },
  {
   "cell_type": "markdown",
   "metadata": {},
   "source": [
    "#### Leapfrog Function\n",
    "\n",
    "The next order of buisness is to define the Leapfrog function."
   ]
  },
  {
   "cell_type": "code",
   "execution_count": 6,
   "metadata": {},
   "outputs": [],
   "source": [
    "@njit\n",
    "def leapfrog(pos, mass, vel, force, sim_time, dt):\n",
    "    num_steps = ceil(sim_time/dt) # one this line we discretize time, I think\n",
    "    num_bodies, D = pos.shape\n",
    "    \n",
    "    #---------we write up the initial arrays of zeroes to put in values later----------\n",
    "    times = np.zeros((num_steps))\n",
    "    positions = np.zeros((num_steps, num_bodies, D))\n",
    "    velocities = np.zeros((num_steps, num_bodies, D))\n",
    "    accelerations = np.zeros((num_steps, num_bodies, D))\n",
    "    time = 0 # we start by setting the time to zero\n",
    "    \n",
    "    for step in range(num_steps):\n",
    "        time += dt\n",
    "        grav_force(pos, mass, force)\n",
    "        acc = (force.T/mass).T\n",
    "        vel += acc*dt\n",
    "        pos += vel*dt\n",
    "        \n",
    "        times[step] = time \n",
    "        positions[step] = pos\n",
    "        velocities[step] = vel\n",
    "        accelerations[step] = acc\n",
    "    \n",
    "    return times, positions, velocities, accelerations"
   ]
  },
  {
   "cell_type": "code",
   "execution_count": null,
   "metadata": {},
   "outputs": [],
   "source": [
    "times, positions, velocities, accelerations = leapfrog(pos, mass, vel, acc, 10, 1e-4)\n",
    "\n",
    "%time _ = leapfrog(pos, mass, vel, acc, 10, 1e-4)"
   ]
  },
  {
   "cell_type": "code",
   "execution_count": null,
   "metadata": {
    "scrolled": false
   },
   "outputs": [],
   "source": [
    "print('num_bodies:',num_bodies)\n",
    "\n",
    "plt.figure(figsize=(6, 6))\n",
    "ax3 = plt.subplot(111)\n",
    "ax3.plot(positions[:,:,0],positions[:,:,1],'-')\n",
    "ax3.set_title('Oribits of Jupiter and Saturn')\n",
    "plt.legend(['Sun', \"Jupiter\", 'Saturn'], loc='upper right')\n",
    "\n",
    "plt.xlabel(\"AU\")\n",
    "plt.ylabel(\"AU\")\n",
    "\n",
    "positions.shape"
   ]
  },
  {
   "cell_type": "code",
   "execution_count": 9,
   "metadata": {},
   "outputs": [
    {
     "name": "stdout",
     "output_type": "stream",
     "text": [
      "[[-3.37065098e-07  1.51421035e-11  2.88899687e-04  5.20444999e+00]\n",
      " [-6.74130195e-07  4.54263104e-11  5.77799374e-04  5.20444996e+00]\n",
      " [-1.01119529e-06  9.08526208e-11  8.66699058e-04  5.20444991e+00]\n",
      " ...\n",
      " [ 2.31821989e-03  1.11734368e-02 -5.49955961e+00 -2.28622793e+00]\n",
      " [ 2.31830667e-03  1.11732559e-02 -5.49963408e+00 -2.28598568e+00]\n",
      " [ 2.31839344e-03  1.11730750e-02 -5.49970853e+00 -2.28574342e+00]]\n"
     ]
    }
   ],
   "source": [
    "JSpos = np.array([positions[:,0,0],positions[:,0,1],positions[:,1,0],positions[:,1,1]]) #,positions[:,2,0],positions[:,2,1]\n",
    "JSpos = JSpos.T\n",
    "\n",
    "JSvel = np.array([velocities[:,0,0],velocities[:,0,1],velocities[:,1,0],velocities[:,1,1]]) #,velocities[:,2,0],velocities[:,2,1]\n",
    "JSvel = JSvel.T\n",
    "\n",
    "JSacc = np.array([accelerations[:,0,0],accelerations[:,0,1],accelerations[:,1,0],accelerations[:,1,1]]) #,accelerations[:,2,0],accelerations[:,2,1]\n",
    "JSacc = JSacc.T\n",
    "\n",
    "\n",
    "np.save('JSpos.npy', JSpos)\n",
    "np.save('JSvel.npy', JSvel)\n",
    "np.save('JSacc.npy', JSacc)\n",
    "\n",
    "print(JSpos)"
   ]
  },
  {
   "cell_type": "code",
   "execution_count": null,
   "metadata": {},
   "outputs": [],
   "source": []
  },
  {
   "cell_type": "code",
   "execution_count": null,
   "metadata": {},
   "outputs": [],
   "source": []
  }
 ],
 "metadata": {
  "kernelspec": {
   "display_name": "Python 3",
   "language": "python",
   "name": "python3"
  },
  "language_info": {
   "codemirror_mode": {
    "name": "ipython",
    "version": 3
   },
   "file_extension": ".py",
   "mimetype": "text/x-python",
   "name": "python",
   "nbconvert_exporter": "python",
   "pygments_lexer": "ipython3",
   "version": "3.8.3"
  }
 },
 "nbformat": 4,
 "nbformat_minor": 4
}
