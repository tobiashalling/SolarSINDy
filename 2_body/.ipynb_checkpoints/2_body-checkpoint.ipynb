{
 "cells": [
  {
   "cell_type": "markdown",
   "metadata": {},
   "source": [
    "# 2 body \n",
    "It is here assumed that the sun is at standstill"
   ]
  },
  {
   "cell_type": "code",
   "execution_count": 15,
   "metadata": {},
   "outputs": [],
   "source": [
    "import pysindy as ps\n",
    "import numpy as np\n",
    "import matplotlib.pyplot as plt\n",
    "from pysindy.feature_library import CustomLibrary\n",
    "from funcs import *\n",
    "\n",
    "def plot(x, y, x_model, y_model):\n",
    "    fig, ax = plt.subplots(1, figsize=(6, 6))\n",
    "    ax.plot(x, y, label='Data')\n",
    "    ax.plot(x_model, y_model, label='SINDy')\n",
    "    ax.set(xlabel='x', ylabel='y')\n",
    "    ax.legend()\n",
    "    \n",
    "pos = np.load('Jupiter_pos.npy')\n",
    "x, y = pos[:, 0], pos[:, 1]\n",
    "vel = np.load('Jupiter_vel.npy')\n",
    "acc = np.load('Jupiter_acc.npy')\n",
    "ax, ay = acc[:, 0], acc[:, 1]\n",
    "\n",
    "names = ['Sun', 'Jupiter']"
   ]
  },
  {
   "cell_type": "code",
   "execution_count": 16,
   "metadata": {},
   "outputs": [
    {
     "name": "stdout",
     "output_type": "stream",
     "text": [
      "x1'' = -39.407 f0(x,y)\n",
      "y1'' = -39.411 f1(x,y)\n"
     ]
    }
   ],
   "source": [
    "functions = [lambda x,y : x/(x**2+y**2)**(3/2), \n",
    "             lambda x,y : y/(x**2+y**2)**(3/2)]\n",
    "\n",
    "lib_custom = CustomLibrary(library_functions=functions)\n",
    "optimizer = ps.STLSQ(threshold=1)\n",
    "\n",
    "t = np.arange(0, pos.shape[0], 1)\n",
    "\n",
    "model = ps.SINDy( \n",
    "        feature_library = lib_custom, \n",
    "        optimizer=optimizer,\n",
    "        feature_names = ['x', 'y'])\n",
    "\n",
    "model.fit(pos, t=t, x_dot=acc)\n",
    "model.print(lhs=[\"x1''\", \"y1''\", \"x2''\", \"y2''\"])\n",
    "coef = model.coefficients()"
   ]
  },
  {
   "cell_type": "code",
   "execution_count": 17,
   "metadata": {},
   "outputs": [
    {
     "data": {
      "image/png": "[encoded data removed]",
      "text/plain": [
       "<Figure size 432x432 with 1 Axes>"
      ]
     },
     "metadata": {
      "needs_background": "light"
     },
     "output_type": "display_data"
    }
   ],
   "source": [
    "def f0(x, y):\n",
    "    F0 = x/(x**2+y**2)**(3/2)\n",
    "    return F0\n",
    "    \n",
    "def f1(x, y):\n",
    "    F1 = y/(x**2+y**2)**(3/2)\n",
    "    return F1\n",
    "\n",
    "aSx, aSy = coef[0,0]*f0(x, y), coef[1,1]*f1(x, y)\n",
    "\n",
    "plot(ax, ay, aSx, aSy)\n",
    "\n",
    "#plt.savefig('1_body.png')"
   ]
  },
  {
   "cell_type": "code",
   "execution_count": 4,
   "metadata": {},
   "outputs": [
    {
     "ename": "ValueError",
     "evalue": "x and y must have same first dimension, but have shapes (1,) and (50000,)",
     "output_type": "error",
     "traceback": [
      "\u001b[1;31m---------------------------------------------------------------------------\u001b[0m",
      "\u001b[1;31mValueError\u001b[0m                                Traceback (most recent call last)",
      "\u001b[1;32m<ipython-input-4-0cac9897bcf6>\u001b[0m in \u001b[0;36m<module>\u001b[1;34m\u001b[0m\n\u001b[0;32m      2\u001b[0m \u001b[0mfig\u001b[0m\u001b[1;33m.\u001b[0m\u001b[0msuptitle\u001b[0m\u001b[1;33m(\u001b[0m\u001b[1;34m'Accelerations'\u001b[0m\u001b[1;33m)\u001b[0m\u001b[1;33m\u001b[0m\u001b[1;33m\u001b[0m\u001b[0m\n\u001b[0;32m      3\u001b[0m \u001b[1;31m# Plots the planets\u001b[0m\u001b[1;33m\u001b[0m\u001b[1;33m\u001b[0m\u001b[1;33m\u001b[0m\u001b[0m\n\u001b[1;32m----> 4\u001b[1;33m \u001b[0max\u001b[0m\u001b[1;33m.\u001b[0m\u001b[0mplot\u001b[0m\u001b[1;33m(\u001b[0m\u001b[0max\u001b[0m\u001b[1;33m,\u001b[0m \u001b[0may\u001b[0m\u001b[1;33m,\u001b[0m \u001b[0mlabel\u001b[0m\u001b[1;33m=\u001b[0m\u001b[1;34m'Data Jupiter'\u001b[0m\u001b[1;33m,\u001b[0m \u001b[0mcolor\u001b[0m\u001b[1;33m=\u001b[0m\u001b[1;34m'royalblue'\u001b[0m\u001b[1;33m)\u001b[0m\u001b[1;33m\u001b[0m\u001b[1;33m\u001b[0m\u001b[0m\n\u001b[0m\u001b[0;32m      5\u001b[0m \u001b[0max\u001b[0m\u001b[1;33m.\u001b[0m\u001b[0mplot\u001b[0m\u001b[1;33m(\u001b[0m\u001b[0maSx\u001b[0m\u001b[1;33m,\u001b[0m \u001b[0maSy\u001b[0m\u001b[1;33m,\u001b[0m \u001b[0mlabel\u001b[0m\u001b[1;33m=\u001b[0m\u001b[1;34m'SINDy Jupiter'\u001b[0m\u001b[1;33m,\u001b[0m \u001b[0mcolor\u001b[0m\u001b[1;33m=\u001b[0m\u001b[1;34m'darkorange'\u001b[0m\u001b[1;33m)\u001b[0m\u001b[1;33m\u001b[0m\u001b[1;33m\u001b[0m\u001b[0m\n\u001b[0;32m      6\u001b[0m \u001b[0max\u001b[0m\u001b[1;33m.\u001b[0m\u001b[0mset\u001b[0m\u001b[1;33m(\u001b[0m\u001b[0mxlabel\u001b[0m\u001b[1;33m=\u001b[0m\u001b[1;34m'x'\u001b[0m\u001b[1;33m,\u001b[0m \u001b[0mylabel\u001b[0m\u001b[1;33m=\u001b[0m\u001b[1;34m'y'\u001b[0m\u001b[1;33m)\u001b[0m\u001b[1;33m\u001b[0m\u001b[1;33m\u001b[0m\u001b[0m\n",
      "\u001b[1;32m~\\Anaconda3\\lib\\site-packages\\matplotlib\\axes\\_axes.py\u001b[0m in \u001b[0;36mplot\u001b[1;34m(self, scalex, scaley, data, *args, **kwargs)\u001b[0m\n\u001b[0;32m   1741\u001b[0m         \"\"\"\n\u001b[0;32m   1742\u001b[0m         \u001b[0mkwargs\u001b[0m \u001b[1;33m=\u001b[0m \u001b[0mcbook\u001b[0m\u001b[1;33m.\u001b[0m\u001b[0mnormalize_kwargs\u001b[0m\u001b[1;33m(\u001b[0m\u001b[0mkwargs\u001b[0m\u001b[1;33m,\u001b[0m \u001b[0mmlines\u001b[0m\u001b[1;33m.\u001b[0m\u001b[0mLine2D\u001b[0m\u001b[1;33m)\u001b[0m\u001b[1;33m\u001b[0m\u001b[1;33m\u001b[0m\u001b[0m\n\u001b[1;32m-> 1743\u001b[1;33m         \u001b[0mlines\u001b[0m \u001b[1;33m=\u001b[0m \u001b[1;33m[\u001b[0m\u001b[1;33m*\u001b[0m\u001b[0mself\u001b[0m\u001b[1;33m.\u001b[0m\u001b[0m_get_lines\u001b[0m\u001b[1;33m(\u001b[0m\u001b[1;33m*\u001b[0m\u001b[0margs\u001b[0m\u001b[1;33m,\u001b[0m \u001b[0mdata\u001b[0m\u001b[1;33m=\u001b[0m\u001b[0mdata\u001b[0m\u001b[1;33m,\u001b[0m \u001b[1;33m**\u001b[0m\u001b[0mkwargs\u001b[0m\u001b[1;33m)\u001b[0m\u001b[1;33m]\u001b[0m\u001b[1;33m\u001b[0m\u001b[1;33m\u001b[0m\u001b[0m\n\u001b[0m\u001b[0;32m   1744\u001b[0m         \u001b[1;32mfor\u001b[0m \u001b[0mline\u001b[0m \u001b[1;32min\u001b[0m \u001b[0mlines\u001b[0m\u001b[1;33m:\u001b[0m\u001b[1;33m\u001b[0m\u001b[1;33m\u001b[0m\u001b[0m\n\u001b[0;32m   1745\u001b[0m             \u001b[0mself\u001b[0m\u001b[1;33m.\u001b[0m\u001b[0madd_line\u001b[0m\u001b[1;33m(\u001b[0m\u001b[0mline\u001b[0m\u001b[1;33m)\u001b[0m\u001b[1;33m\u001b[0m\u001b[1;33m\u001b[0m\u001b[0m\n",
      "\u001b[1;32m~\\Anaconda3\\lib\\site-packages\\matplotlib\\axes\\_base.py\u001b[0m in \u001b[0;36m__call__\u001b[1;34m(self, data, *args, **kwargs)\u001b[0m\n\u001b[0;32m    271\u001b[0m                 \u001b[0mthis\u001b[0m \u001b[1;33m+=\u001b[0m \u001b[0margs\u001b[0m\u001b[1;33m[\u001b[0m\u001b[1;36m0\u001b[0m\u001b[1;33m]\u001b[0m\u001b[1;33m,\u001b[0m\u001b[1;33m\u001b[0m\u001b[1;33m\u001b[0m\u001b[0m\n\u001b[0;32m    272\u001b[0m                 \u001b[0margs\u001b[0m \u001b[1;33m=\u001b[0m \u001b[0margs\u001b[0m\u001b[1;33m[\u001b[0m\u001b[1;36m1\u001b[0m\u001b[1;33m:\u001b[0m\u001b[1;33m]\u001b[0m\u001b[1;33m\u001b[0m\u001b[1;33m\u001b[0m\u001b[0m\n\u001b[1;32m--> 273\u001b[1;33m             \u001b[1;32myield\u001b[0m \u001b[1;32mfrom\u001b[0m \u001b[0mself\u001b[0m\u001b[1;33m.\u001b[0m\u001b[0m_plot_args\u001b[0m\u001b[1;33m(\u001b[0m\u001b[0mthis\u001b[0m\u001b[1;33m,\u001b[0m \u001b[0mkwargs\u001b[0m\u001b[1;33m)\u001b[0m\u001b[1;33m\u001b[0m\u001b[1;33m\u001b[0m\u001b[0m\n\u001b[0m\u001b[0;32m    274\u001b[0m \u001b[1;33m\u001b[0m\u001b[0m\n\u001b[0;32m    275\u001b[0m     \u001b[1;32mdef\u001b[0m \u001b[0mget_next_color\u001b[0m\u001b[1;33m(\u001b[0m\u001b[0mself\u001b[0m\u001b[1;33m)\u001b[0m\u001b[1;33m:\u001b[0m\u001b[1;33m\u001b[0m\u001b[1;33m\u001b[0m\u001b[0m\n",
      "\u001b[1;32m~\\Anaconda3\\lib\\site-packages\\matplotlib\\axes\\_base.py\u001b[0m in \u001b[0;36m_plot_args\u001b[1;34m(self, tup, kwargs)\u001b[0m\n\u001b[0;32m    397\u001b[0m \u001b[1;33m\u001b[0m\u001b[0m\n\u001b[0;32m    398\u001b[0m         \u001b[1;32mif\u001b[0m \u001b[0mx\u001b[0m\u001b[1;33m.\u001b[0m\u001b[0mshape\u001b[0m\u001b[1;33m[\u001b[0m\u001b[1;36m0\u001b[0m\u001b[1;33m]\u001b[0m \u001b[1;33m!=\u001b[0m \u001b[0my\u001b[0m\u001b[1;33m.\u001b[0m\u001b[0mshape\u001b[0m\u001b[1;33m[\u001b[0m\u001b[1;36m0\u001b[0m\u001b[1;33m]\u001b[0m\u001b[1;33m:\u001b[0m\u001b[1;33m\u001b[0m\u001b[1;33m\u001b[0m\u001b[0m\n\u001b[1;32m--> 399\u001b[1;33m             raise ValueError(f\"x and y must have same first dimension, but \"\n\u001b[0m\u001b[0;32m    400\u001b[0m                              f\"have shapes {x.shape} and {y.shape}\")\n\u001b[0;32m    401\u001b[0m         \u001b[1;32mif\u001b[0m \u001b[0mx\u001b[0m\u001b[1;33m.\u001b[0m\u001b[0mndim\u001b[0m \u001b[1;33m>\u001b[0m \u001b[1;36m2\u001b[0m \u001b[1;32mor\u001b[0m \u001b[0my\u001b[0m\u001b[1;33m.\u001b[0m\u001b[0mndim\u001b[0m \u001b[1;33m>\u001b[0m \u001b[1;36m2\u001b[0m\u001b[1;33m:\u001b[0m\u001b[1;33m\u001b[0m\u001b[1;33m\u001b[0m\u001b[0m\n",
      "\u001b[1;31mValueError\u001b[0m: x and y must have same first dimension, but have shapes (1,) and (50000,)"
     ]
    },
    {
     "data": {
      "image/png": "[encoded data removed]",
      "text/plain": [
       "<Figure size 432x432 with 1 Axes>"
      ]
     },
     "metadata": {
      "needs_background": "light"
     },
     "output_type": "display_data"
    }
   ],
   "source": [
    "fig, ax = plt.subplots(1, 1, figsize=(6, 6))\n",
    "fig.suptitle('Accelerations')\n",
    "# Plots the planets\n",
    "ax.plot(ax, ay, label='Data Jupiter', color='royalblue')\n",
    "ax.plot(aSx, aSy, label='SINDy Jupiter', color='darkorange')    \n",
    "ax.set(xlabel='x', ylabel='y') \n",
    "ax.legend()"
   ]
  },
  {
   "cell_type": "code",
   "execution_count": null,
   "metadata": {},
   "outputs": [],
   "source": [
    "#plt.savefig('2_body.png')"
   ]
  },
  {
   "cell_type": "markdown",
   "metadata": {},
   "source": [
    "Now not assuming the sun is at standstill"
   ]
  },
  {
   "cell_type": "code",
   "execution_count": null,
   "metadata": {},
   "outputs": [],
   "source": [
    "pos = np.load('Jupiter_Sun_pos.npy')\n",
    "xs, ys = pos[:, 0], pos[:, 1]\n",
    "xj, yj = pos[:, 2], pos[:, 3]\n",
    "vel = np.load('Jupiter_Sun_vel.npy')\n",
    "acc = np.load('Jupiter_Sun_acc.npy')\n",
    "axs, ays = acc[:, 0], acc[:, 1]\n",
    "axj, ayj = acc[:, 2], acc[:, 3]\n",
    "\n",
    "functions = [\n",
    "    lambda x1, y1, x2, y2: (x2-x1)/((x2-x1)**2+(y2-y1)**2)**(3/2), \n",
    "    lambda x1, y1, x2, y2: (y2-y1)/((x2-x1)**2+(y2-y1)**2)**(3/2)\n",
    "    ]\n",
    "\n",
    "lib_custom = CustomLibrary(library_functions=functions)\n",
    "optimizer = ps.STLSQ(threshold=1e-2)\n",
    "t = np.arange(0, pos.shape[0], 1)\n",
    "\n",
    "model = ps.SINDy(\n",
    "        feature_library = lib_custom, \n",
    "        optimizer=optimizer)\n",
    "\n",
    "model.fit(pos, t=t, x_dot=acc)\n",
    "model.print(lhs=[\"x1''\", \"y1''\", \"x2''\", \"y2''\"])\n",
    "coef = model.coefficients()\n",
    "print(coef)\n",
    "print(coef.shape)\n",
    "print(t.shape)"
   ]
  },
  {
   "cell_type": "markdown",
   "metadata": {},
   "source": [
    "Using `ps.SmoothedFiniteDifference()`"
   ]
  },
  {
   "cell_type": "code",
   "execution_count": null,
   "metadata": {},
   "outputs": [],
   "source": [
    "functions = [lambda x1, y1, x2, y2: (x2-x1)/((x2-x1)**2+(y2-y1)**2)**(3/2), \n",
    "             lambda x1, y1, x2, y2: (y2-y1)/((x2-x1)**2+(y2-y1)**2)**(3/2)]\n",
    "diff_method = ps.SmoothedFiniteDifference()\n",
    "\n",
    "\n",
    "optimizer = ps.STLSQ(threshold=1e-2)\n",
    "t = np.arange(0, pos.shape[0], 1)\n",
    "\n",
    "model = ps.SINDy(\n",
    "        differentiation_method=diff_method,\n",
    "        feature_library = lib_custom, \n",
    "        optimizer=optimizer,\n",
    "        feature_names = ['x1', 'y1', 'x2', 'y2'])\n",
    "\n",
    "model.fit(pos, t=t, x_dot=acc)\n",
    "model.print(lhs=[\"x1''\", \"y1''\", \"x2''\", \"y2''\"])\n",
    "coef = model.coefficients()\n",
    "print(coef)\n",
    "print(coef.shape)"
   ]
  },
  {
   "cell_type": "code",
   "execution_count": null,
   "metadata": {},
   "outputs": [],
   "source": [
    "def f0(x1, y1, x2, y2):\n",
    "    F0 = (x2-x1)/((x2-x1)**2+(y2-y1)**2)**(3/2)\n",
    "    return F0\n",
    "    \n",
    "def f1(x1, y1, x2, y2):\n",
    "    F1 = (y2-y1)/((x2-x1)**2+(y2-y1)**2)**(3/2)\n",
    "    return F1\n",
    "\n",
    "a1, a2, a3, a4 = coef[0,5]*f0(xs, ys, xj, yj), coef[1,11]*f1(xs, ys, xj, yj), coef[2,5]*f0(xs, ys, xj, yj), coef[3,11]*f1(xs, ys, xj, yj)\n",
    "\n",
    "#plot(axs, ays, a1, a2)\n",
    "#plot(axj, ayj, a3, a4)"
   ]
  },
  {
   "cell_type": "code",
   "execution_count": 5,
   "metadata": {},
   "outputs": [
    {
     "ename": "NameError",
     "evalue": "name 'axs' is not defined",
     "output_type": "error",
     "traceback": [
      "\u001b[1;31m---------------------------------------------------------------------------\u001b[0m",
      "\u001b[1;31mNameError\u001b[0m                                 Traceback (most recent call last)",
      "\u001b[1;32m<ipython-input-5-c7a62b292c4d>\u001b[0m in \u001b[0;36m<module>\u001b[1;34m\u001b[0m\n\u001b[0;32m      1\u001b[0m \u001b[1;32mfrom\u001b[0m \u001b[0mfuncs\u001b[0m \u001b[1;32mimport\u001b[0m \u001b[1;33m*\u001b[0m\u001b[1;33m\u001b[0m\u001b[1;33m\u001b[0m\u001b[0m\n\u001b[0;32m      2\u001b[0m \u001b[1;33m\u001b[0m\u001b[0m\n\u001b[1;32m----> 3\u001b[1;33m \u001b[0mplot2\u001b[0m\u001b[1;33m(\u001b[0m\u001b[0maxs\u001b[0m\u001b[1;33m,\u001b[0m \u001b[0mays\u001b[0m\u001b[1;33m,\u001b[0m \u001b[1;34m'Sun'\u001b[0m\u001b[1;33m,\u001b[0m \u001b[0maxj\u001b[0m\u001b[1;33m,\u001b[0m \u001b[0mayj\u001b[0m\u001b[1;33m,\u001b[0m \u001b[1;34m'Jupiter'\u001b[0m\u001b[1;33m,\u001b[0m \u001b[0ma1\u001b[0m\u001b[1;33m,\u001b[0m \u001b[0ma2\u001b[0m\u001b[1;33m,\u001b[0m \u001b[0ma3\u001b[0m\u001b[1;33m,\u001b[0m \u001b[0ma4\u001b[0m\u001b[1;33m)\u001b[0m\u001b[1;33m\u001b[0m\u001b[1;33m\u001b[0m\u001b[0m\n\u001b[0m\u001b[0;32m      4\u001b[0m \u001b[0mprint\u001b[0m\u001b[1;33m(\u001b[0m\u001b[1;34mf'Difference in Sun ax {axs-a1}'\u001b[0m\u001b[1;33m)\u001b[0m\u001b[1;33m\u001b[0m\u001b[1;33m\u001b[0m\u001b[0m\n",
      "\u001b[1;31mNameError\u001b[0m: name 'axs' is not defined"
     ]
    }
   ],
   "source": [
    "from funcs import *\n",
    "\n",
    "plot2(axs, ays, 'Sun', axj, ayj, 'Jupiter', a1, a2, a3, a4)\n",
    "print(f'Difference in Sun ax {axs-a1}')"
   ]
  },
  {
   "cell_type": "markdown",
   "metadata": {},
   "source": [
    "Using Spectral diff"
   ]
  },
  {
   "cell_type": "code",
   "execution_count": null,
   "metadata": {},
   "outputs": [],
   "source": [
    "functions = [lambda x1, y1, x2, y2: (x2-x1)/((x2-x1)**2+(y2-y1)**2)**(3/2), \n",
    "             lambda x1, y1, x2, y2: (y2-y1)/((x2-x1)**2+(y2-y1)**2)**(3/2)]\n",
    "diff_method = ps.SINDyDerivative(kind='spectral')\n",
    "\n",
    "optimizer = ps.STLSQ(threshold=1e-2)\n",
    "t = np.arange(0, pos.shape[0], 1)\n",
    "\n",
    "model = ps.SINDy(\n",
    "        differentiation_method=diff_method,\n",
    "        feature_library = lib_custom, \n",
    "        optimizer=optimizer,\n",
    "        feature_names = ['x1', 'y1', 'x2', 'y2'])\n",
    "\n",
    "model.fit(pos, t=t, x_dot=acc)\n",
    "model.print(lhs=[\"x1''\", \"y1''\", \"x2''\", \"y2''\"])\n",
    "coef = model.coefficients()\n",
    "print(coef)\n",
    "print(coef.shape)"
   ]
  },
  {
   "cell_type": "markdown",
   "metadata": {},
   "source": [
    "Using SR3 optimizer"
   ]
  },
  {
   "cell_type": "code",
   "execution_count": null,
   "metadata": {},
   "outputs": [],
   "source": [
    "functions = [\n",
    "    lambda x1, y1, x2, y2: (x2-x1)/((x2-x1)**2+(y2-y1)**2)**(3/2), \n",
    "    lambda x1, y1, x2, y2: (y2-y1)/((x2-x1)**2+(y2-y1)**2)**(3/2)\n",
    "    ]\n",
    "\n",
    "optimizer = ps.SR3(threshold=1e-2, nu=1e-1)\n",
    "t = np.arange(0, pos.shape[0], 1)\n",
    "\n",
    "model = ps.SINDy(\n",
    "        feature_library = lib_custom, \n",
    "        optimizer=optimizer,\n",
    "        feature_names = ['x1', 'y1', 'x2', 'y2'])\n",
    "\n",
    "model.fit(pos, t=t, x_dot=acc)\n",
    "model.print(lhs=[\"x1''\", \"y1''\", \"x2''\", \"y2''\"])\n",
    "coef = model.coefficients()\n",
    "print(coef)\n",
    "print(coef.shape)"
   ]
  },
  {
   "cell_type": "code",
   "execution_count": null,
   "metadata": {},
   "outputs": [],
   "source": [
    "ph = np.load('JSpos_100.npy')\n",
    "xhs, yhs = pos[:, 0], pos[:, 1]\n",
    "xhj, yhj = pos[:, 2], pos[:, 3]\n",
    "vh = np.load('JSvel_100.npy')\n",
    "ah = np.load('JSacc_100.npy')\n",
    "ahxs, ahys = acc[:, 0], acc[:, 1]\n",
    "ahxj, ahyj = acc[:, 2], acc[:, 3]\n",
    "\n",
    "functions = [\n",
    "    lambda x1, y1, x2, y2: (x2-x1)/((x2-x1)**2+(y2-y1)**2)**(3/2), \n",
    "    lambda x1, y1, x2, y2: (y2-y1)/((x2-x1)**2+(y2-y1)**2)**(3/2)\n",
    "    ]\n",
    "\n",
    "optimizer = ps.STLSQ(threshold=1e-2)\n",
    "th = np.arange(0, ph.shape[0], 1)\n",
    "\n",
    "model = ps.SINDy(\n",
    "        feature_library = lib_custom, \n",
    "        optimizer=optimizer)\n",
    "\n",
    "model.fit(ph, t=th, x_dot=ah)\n",
    "model.print(lhs=[\"x1''\", \"y1''\", \"x2''\", \"y2''\"])\n",
    "coef = model.coefficients()\n",
    "print(coef)\n",
    "print(coef.shape)\n",
    "print(th.shape)"
   ]
  },
  {
   "cell_type": "code",
   "execution_count": 20,
   "metadata": {},
   "outputs": [
    {
     "name": "stdout",
     "output_type": "stream",
     "text": [
      "x1'' = 0.038 f0(x0,x1,x2,x3)\n",
      "y1'' = 0.038 f1(x0,x1,x2,x3)\n",
      "x2'' = -39.479 f0(x0,x1,x2,x3)\n",
      "y2'' = -39.479 f1(x0,x1,x2,x3)\n",
      "[[ 3.76859331e-02  0.00000000e+00]\n",
      " [ 0.00000000e+00  3.76859579e-02]\n",
      " [-3.94787050e+01  0.00000000e+00]\n",
      " [ 0.00000000e+00 -3.94787311e+01]]\n",
      "(4, 2)\n",
      "(1000000,)\n"
     ]
    }
   ],
   "source": [
    "pm = np.load('JSpos_mil.npy')\n",
    "xms, yms = pm[:, 0], pm[:, 1]\n",
    "xmj, ymj = pm[:, 2], pm[:, 3]\n",
    "vm = np.load('JSvel_mil.npy')\n",
    "am = np.load('JSacc_mil.npy')\n",
    "amxs, amys = am[:, 0], am[:, 1]\n",
    "amxj, amyj = am[:, 2], am[:, 3]\n",
    "\n",
    "functions = [\n",
    "    lambda x1, y1, x2, y2: (x2-x1)/((x2-x1)**2+(y2-y1)**2)**(3/2), \n",
    "    lambda x1, y1, x2, y2: (y2-y1)/((x2-x1)**2+(y2-y1)**2)**(3/2)\n",
    "    ]\n",
    "\n",
    "lib_custom = CustomLibrary(library_functions=functions)\n",
    "optimizer = ps.STLSQ(threshold=1e-2)\n",
    "tm = np.arange(0, pm.shape[0], 1)\n",
    "\n",
    "model = ps.SINDy(\n",
    "        feature_library = lib_custom, \n",
    "        optimizer=optimizer)\n",
    "\n",
    "model.fit(pm, t=tm, x_dot=am)\n",
    "model.print(lhs=[\"x1''\", \"y1''\", \"x2''\", \"y2''\"])\n",
    "coef = model.coefficients()\n",
    "print(coef)\n",
    "print(coef.shape)\n",
    "print(tm.shape)"
   ]
  },
  {
   "cell_type": "markdown",
   "metadata": {},
   "source": [
    "Test if it is dependent on smaller timesteps or just more data"
   ]
  },
  {
   "cell_type": "code",
   "execution_count": 8,
   "metadata": {},
   "outputs": [
    {
     "data": {
      "text/plain": [
       "array([[ 9.54565674e-04,  0.00000000e+00],\n",
       "       [ 0.00000000e+00,  9.54564314e-04],\n",
       "       [-1.00000001e+00,  4.68563420e-04],\n",
       "       [-4.71021727e-04, -1.00000022e+00]])"
      ]
     },
     "execution_count": 8,
     "metadata": {},
     "output_type": "execute_result"
    }
   ],
   "source": [
    "coef/39.4797"
   ]
  },
  {
   "cell_type": "code",
   "execution_count": 6,
   "metadata": {},
   "outputs": [
    {
     "name": "stdout",
     "output_type": "stream",
     "text": [
      "x1'' = 0.038 f0(x0,x1,x2,x3)\n",
      "y1'' = 0.038 f1(x0,x1,x2,x3)\n",
      "x2'' = -39.480 f0(x0,x1,x2,x3) + 0.018 f1(x0,x1,x2,x3)\n",
      "y2'' = -0.019 f0(x0,x1,x2,x3) + -39.480 f1(x0,x1,x2,x3)\n",
      "[[ 3.76859664e-02  0.00000000e+00]\n",
      " [ 0.00000000e+00  3.76859128e-02]\n",
      " [-3.94797003e+01  1.84987433e-02]\n",
      " [-1.85957965e-02 -3.94797088e+01]]\n",
      "(4, 2)\n"
     ]
    }
   ],
   "source": [
    "pl = np.load(\"SJ_dat/1000y0.001dt/JSpos_1mil.npy\") # data where weve run the sim for longer with normal dt\n",
    "vl = np.load(\"SJ_dat/1000y0.001dt/JSvel_1mil.npy\")\n",
    "al = np.load(\"SJ_dat/1000y0.001dt/JSacc_1mil.npy\")\n",
    "\n",
    "functions = [\n",
    "    lambda x1, y1, x2, y2: (x2-x1)/((x2-x1)**2+(y2-y1)**2)**(3/2), \n",
    "    lambda x1, y1, x2, y2: (y2-y1)/((x2-x1)**2+(y2-y1)**2)**(3/2)\n",
    "    ]\n",
    "\n",
    "lib_custom = CustomLibrary(library_functions=functions)\n",
    "optimizer = ps.STLSQ(threshold=1e-2)\n",
    "tl = np.arange(0, pl.shape[0], 1)\n",
    "\n",
    "model = ps.SINDy(\n",
    "        feature_library = lib_custom, \n",
    "        optimizer=optimizer)\n",
    "\n",
    "model.fit(pl, t=tl, x_dot=al)\n",
    "model.print(lhs=[\"x1''\", \"y1''\", \"x2''\", \"y2''\"])\n",
    "coef = model.coefficients()\n",
    "print(coef)\n",
    "print(coef.shape)"
   ]
  },
  {
   "cell_type": "code",
   "execution_count": 7,
   "metadata": {},
   "outputs": [],
   "source": [
    "aSINDy = f_2(pl, coef)"
   ]
  },
  {
   "cell_type": "code",
   "execution_count": null,
   "metadata": {},
   "outputs": [],
   "source": [
    "np.mean(aSINDy[0]-al[:, 0])"
   ]
  },
  {
   "cell_type": "code",
   "execution_count": null,
   "metadata": {},
   "outputs": [],
   "source": [
    "9.54758314e-4 - 9.54564884e-4"
   ]
  },
  {
   "cell_type": "code",
   "execution_count": null,
   "metadata": {},
   "outputs": [],
   "source": [
    "0.001934300000000196e-4"
   ]
  },
  {
   "cell_type": "code",
   "execution_count": null,
   "metadata": {},
   "outputs": [],
   "source": [
    "(np.abs(9.54758314e-4 - 9.54564884e-4)/(9.54758314e-4 + 9.54564884e-4)/2)*1000"
   ]
  },
  {
   "cell_type": "code",
   "execution_count": null,
   "metadata": {},
   "outputs": [],
   "source": [
    "perdiff(9.54758314e-4, 9.54564884e-4)"
   ]
  },
  {
   "cell_type": "code",
   "execution_count": null,
   "metadata": {},
   "outputs": [],
   "source": [
    "# 3_body\n",
    "\n",
    "perdiff(9.54552519e-4, 9.54564884e-4)"
   ]
  },
  {
   "cell_type": "code",
   "execution_count": 21,
   "metadata": {},
   "outputs": [
    {
     "data": {
      "text/plain": [
       "2.053118444824009e-08"
      ]
     },
     "execution_count": 21,
     "metadata": {},
     "output_type": "execute_result"
    }
   ],
   "source": [
    "jx = err(9.54564884e-4, 9.54565674e-04)\n",
    "jy = err(9.54564884e-4, 9.54758314e-04)\n",
    "np.mean([jx, jy])"
   ]
  },
  {
   "cell_type": "code",
   "execution_count": null,
   "metadata": {},
   "outputs": [],
   "source": []
  }
 ],
 "metadata": {
  "kernelspec": {
   "display_name": "Python 3",
   "language": "python",
   "name": "python3"
  },
  "language_info": {
   "codemirror_mode": {
    "name": "ipython",
    "version": 3
   },
   "file_extension": ".py",
   "mimetype": "text/x-python",
   "name": "python",
   "nbconvert_exporter": "python",
   "pygments_lexer": "ipython3",
   "version": "3.8.5"
  }
 },
 "nbformat": 4,
 "nbformat_minor": 4
}
