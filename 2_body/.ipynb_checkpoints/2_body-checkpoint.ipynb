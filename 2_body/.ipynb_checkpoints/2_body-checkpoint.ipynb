{
 "cells": [
  {
   "cell_type": "markdown",
   "metadata": {},
   "source": [
    "# 2 body \n",
    "It is here assumed that the sun is at standstill"
   ]
  },
  {
   "cell_type": "code",
   "execution_count": 1,
   "metadata": {},
   "outputs": [],
   "source": [
    "import pysindy as ps\n",
    "import numpy as np\n",
    "import matplotlib.pyplot as plt\n",
    "from pysindy.feature_library import CustomLibrary\n",
    "\n",
    "def plot(x, y, x_model, y_model):\n",
    "    fig, ax = plt.subplots(1, 2, figsize=(12, 5.5))\n",
    "    ax[0].plot(x, y, label='Data')\n",
    "    ax[1].plot(x_model, y_model, label='SINDy')\n",
    "    ax[0].set(xlabel='x', ylabel='y')\n",
    "    ax[1].set(xlabel='x', ylabel='y')\n",
    "    ax[0].legend()\n",
    "    ax[1].legend()\n",
    "    \n",
    "pos = np.load('Jupiter_pos.npy')\n",
    "x, y = pos[:, 0], pos[:, 1]\n",
    "vel = np.load('Jupiter_vel.npy')\n",
    "acc = np.load('Jupiter_acc.npy')\n",
    "ax, ay = acc[:, 0], acc[:, 1]\n",
    "\n",
    "names = ['Sun', 'Jupiter']"
   ]
  },
  {
   "cell_type": "code",
   "execution_count": 2,
   "metadata": {},
   "outputs": [
    {
     "name": "stdout",
     "output_type": "stream",
     "text": [
      "x' = -39.407 f0(x,y)\n",
      "y' = -39.411 f1(x,y)\n"
     ]
    }
   ],
   "source": [
    "functions = [lambda x,y : x/(x**2+y**2)**(3/2), \n",
    "             lambda x,y : y/(x**2+y**2)**(3/2)]\n",
    "\n",
    "lib_custom = CustomLibrary(library_functions=functions)\n",
    "optimizer = ps.STLSQ(threshold=1)\n",
    "\n",
    "t = np.arange(0, pos.shape[0], 1)\n",
    "\n",
    "model = ps.SINDy( \n",
    "        feature_library = lib_custom, \n",
    "        optimizer=optimizer,\n",
    "        feature_names = ['x', 'y'])\n",
    "\n",
    "model.fit(pos, t=t, x_dot=acc)\n",
    "model.print()\n",
    "coef = model.coefficients()"
   ]
  },
  {
   "cell_type": "code",
   "execution_count": 3,
   "metadata": {},
   "outputs": [
    {
     "data": {
      "image/png": "[encoded data removed]",
      "text/plain": [
       "<Figure size 864x396 with 2 Axes>"
      ]
     },
     "metadata": {
      "needs_background": "light"
     },
     "output_type": "display_data"
    }
   ],
   "source": [
    "def f0(x, y):\n",
    "    F0 = x/(x**2+y**2)**(3/2)\n",
    "    return F0\n",
    "    \n",
    "def f1(x, y):\n",
    "    F1 = y/(x**2+y**2)**(3/2)\n",
    "    return F1\n",
    "\n",
    "aSx, aSy = coef[0,0]*f0(x, y), coef[1,1]*f1(x, y)\n",
    "\n",
    "plot(ax, ay, aSx, aSy)\n",
    "#plt.savefig('1_body.png')"
   ]
  },
  {
   "cell_type": "code",
   "execution_count": 4,
   "metadata": {},
   "outputs": [],
   "source": [
    "#plt.savefig('2_body.png')"
   ]
  },
  {
   "cell_type": "markdown",
   "metadata": {},
   "source": [
    "Now not assuming the sun is at standstill"
   ]
  },
  {
   "cell_type": "code",
   "execution_count": 18,
   "metadata": {},
   "outputs": [
    {
     "name": "stdout",
     "output_type": "stream",
     "text": [
      "x1' = 0.038 f0(x2,y2)\n",
      "y1' = 0.038 f1(x2,y2)\n",
      "x2' = -39.407 f0(x2,y2) + 0.018 f1(x2,y2)\n",
      "y2' = -0.021 f0(x2,y2) + -39.410 f1(x2,y2)\n",
      "[[ 0.00000000e+00  0.00000000e+00  0.00000000e+00  0.00000000e+00\n",
      "   0.00000000e+00  3.76242162e-02  0.00000000e+00  0.00000000e+00\n",
      "   0.00000000e+00  0.00000000e+00  0.00000000e+00  0.00000000e+00]\n",
      " [ 0.00000000e+00  0.00000000e+00  0.00000000e+00  0.00000000e+00\n",
      "   0.00000000e+00  0.00000000e+00  0.00000000e+00  0.00000000e+00\n",
      "   0.00000000e+00  0.00000000e+00  0.00000000e+00  3.76281184e-02]\n",
      " [ 0.00000000e+00  0.00000000e+00  0.00000000e+00  0.00000000e+00\n",
      "   0.00000000e+00 -3.94070470e+01  0.00000000e+00  0.00000000e+00\n",
      "   0.00000000e+00  0.00000000e+00  0.00000000e+00  1.78476404e-02]\n",
      " [ 0.00000000e+00  0.00000000e+00  0.00000000e+00  0.00000000e+00\n",
      "   0.00000000e+00 -2.08317156e-02  0.00000000e+00  0.00000000e+00\n",
      "   0.00000000e+00  0.00000000e+00  0.00000000e+00 -3.94104545e+01]]\n",
      "(4, 12)\n"
     ]
    },
    {
     "name": "stderr",
     "output_type": "stream",
     "text": [
      "C:\\Users\\tobia\\anaconda3\\lib\\site-packages\\sklearn\\linear_model\\_ridge.py:147: LinAlgWarning: Ill-conditioned matrix (rcond=8.22066e-28): result may not be accurate.\n",
      "  return linalg.solve(A, Xy, sym_pos=True,\n",
      "C:\\Users\\tobia\\anaconda3\\lib\\site-packages\\sklearn\\linear_model\\_ridge.py:147: LinAlgWarning: Ill-conditioned matrix (rcond=8.22066e-28): result may not be accurate.\n",
      "  return linalg.solve(A, Xy, sym_pos=True,\n",
      "C:\\Users\\tobia\\anaconda3\\lib\\site-packages\\sklearn\\linear_model\\_ridge.py:147: LinAlgWarning: Ill-conditioned matrix (rcond=8.22066e-28): result may not be accurate.\n",
      "  return linalg.solve(A, Xy, sym_pos=True,\n",
      "C:\\Users\\tobia\\anaconda3\\lib\\site-packages\\sklearn\\linear_model\\_ridge.py:147: LinAlgWarning: Ill-conditioned matrix (rcond=8.22066e-28): result may not be accurate.\n",
      "  return linalg.solve(A, Xy, sym_pos=True,\n"
     ]
    }
   ],
   "source": [
    "pos = np.load('Jupiter_Sun_pos.npy')\n",
    "xs, ys = pos[:, 0], pos[:, 1]\n",
    "xj, yj = pos[:, 2], pos[:, 3]\n",
    "vel = np.load('Jupiter_Sun_vel.npy')\n",
    "acc = np.load('Jupiter_Sun_acc.npy')\n",
    "axs, ays = acc[:, 0], acc[:, 1]\n",
    "axj, ayj = acc[:, 2], acc[:, 3]\n",
    "\n",
    "functions = [lambda x1, y1, x2, y2: (x2-x1)/((x2-x1)**2+(y2-y1)**2)**(3/2), \n",
    "             lambda x1, y1, x2, y2: (y2-y1)/((x2-x1)**2+(y2-y1)**2)**(3/2)]\n",
    "\n",
    "optimizer = ps.STLSQ(threshold=1e-2)\n",
    "t = np.arange(0, pos.shape[0], 1)\n",
    "\n",
    "model = ps.SINDy(\n",
    "        feature_library = lib_custom, \n",
    "        optimizer=optimizer,\n",
    "        feature_names = ['x1', 'y1', 'x2', 'y2'])\n",
    "\n",
    "model.fit(pos, t=t, x_dot=acc)\n",
    "model.print()\n",
    "coef = model.coefficients()\n",
    "print(coef)\n",
    "print(coef.shape)"
   ]
  },
  {
   "cell_type": "markdown",
   "metadata": {},
   "source": [
    "Using `ps.SmoothedFiniteDifference()`"
   ]
  },
  {
   "cell_type": "code",
   "execution_count": 10,
   "metadata": {},
   "outputs": [
    {
     "name": "stdout",
     "output_type": "stream",
     "text": [
      "x1' = 0.038 f0(x2,y2)\n",
      "y1' = 0.038 f1(x2,y2)\n",
      "x2' = -39.407 f0(x2,y2) + 0.018 f1(x2,y2)\n",
      "y2' = -0.021 f0(x2,y2) + -39.410 f1(x2,y2)\n",
      "[[ 0.00000000e+00  0.00000000e+00  0.00000000e+00  0.00000000e+00\n",
      "   0.00000000e+00  3.76242162e-02  0.00000000e+00  0.00000000e+00\n",
      "   0.00000000e+00  0.00000000e+00  0.00000000e+00  0.00000000e+00]\n",
      " [ 0.00000000e+00  0.00000000e+00  0.00000000e+00  0.00000000e+00\n",
      "   0.00000000e+00  0.00000000e+00  0.00000000e+00  0.00000000e+00\n",
      "   0.00000000e+00  0.00000000e+00  0.00000000e+00  3.76281184e-02]\n",
      " [ 0.00000000e+00  0.00000000e+00  0.00000000e+00  0.00000000e+00\n",
      "   0.00000000e+00 -3.94070470e+01  0.00000000e+00  0.00000000e+00\n",
      "   0.00000000e+00  0.00000000e+00  0.00000000e+00  1.78476404e-02]\n",
      " [ 0.00000000e+00  0.00000000e+00  0.00000000e+00  0.00000000e+00\n",
      "   0.00000000e+00 -2.08317156e-02  0.00000000e+00  0.00000000e+00\n",
      "   0.00000000e+00  0.00000000e+00  0.00000000e+00 -3.94104545e+01]]\n",
      "(4, 12)\n"
     ]
    },
    {
     "name": "stderr",
     "output_type": "stream",
     "text": [
      "C:\\Users\\tobia\\anaconda3\\lib\\site-packages\\sklearn\\linear_model\\_ridge.py:147: LinAlgWarning: Ill-conditioned matrix (rcond=8.22066e-28): result may not be accurate.\n",
      "  return linalg.solve(A, Xy, sym_pos=True,\n",
      "C:\\Users\\tobia\\anaconda3\\lib\\site-packages\\sklearn\\linear_model\\_ridge.py:147: LinAlgWarning: Ill-conditioned matrix (rcond=8.22066e-28): result may not be accurate.\n",
      "  return linalg.solve(A, Xy, sym_pos=True,\n",
      "C:\\Users\\tobia\\anaconda3\\lib\\site-packages\\sklearn\\linear_model\\_ridge.py:147: LinAlgWarning: Ill-conditioned matrix (rcond=8.22066e-28): result may not be accurate.\n",
      "  return linalg.solve(A, Xy, sym_pos=True,\n",
      "C:\\Users\\tobia\\anaconda3\\lib\\site-packages\\sklearn\\linear_model\\_ridge.py:147: LinAlgWarning: Ill-conditioned matrix (rcond=8.22066e-28): result may not be accurate.\n",
      "  return linalg.solve(A, Xy, sym_pos=True,\n"
     ]
    }
   ],
   "source": [
    "functions = [lambda x1, y1, x2, y2: (x2-x1)/((x2-x1)**2+(y2-y1)**2)**(3/2), \n",
    "             lambda x1, y1, x2, y2: (y2-y1)/((x2-x1)**2+(y2-y1)**2)**(3/2)]\n",
    "diff_method = ps.SmoothedFiniteDifference()\n",
    "\n",
    "optimizer = ps.STLSQ(threshold=1e-2)\n",
    "t = np.arange(0, pos.shape[0], 1)\n",
    "\n",
    "model = ps.SINDy(\n",
    "        differentiation_method=diff_method,\n",
    "        feature_library = lib_custom, \n",
    "        optimizer=optimizer,\n",
    "        feature_names = ['x1', 'y1', 'x2', 'y2'])\n",
    "\n",
    "model.fit(pos, t=t, x_dot=acc)\n",
    "model.print()\n",
    "coef = model.coefficients()\n",
    "print(coef)\n",
    "print(coef.shape)"
   ]
  },
  {
   "cell_type": "code",
   "execution_count": 7,
   "metadata": {},
   "outputs": [],
   "source": [
    "def f0(x1, y1, x2, y2):\n",
    "    F0 = (x2-x1)/((x2-x1)**2+(y2-y1)**2)**(3/2)\n",
    "    return F0\n",
    "    \n",
    "def f1(x1, y1, x2, y2):\n",
    "    F1 = (y2-y1)/((x2-x1)**2+(y2-y1)**2)**(3/2)\n",
    "    return F1\n",
    "\n",
    "a1, a2, a3, a4 = coef[0,5]*f0(xs, ys, xj, yj), coef[1,11]*f1(xs, ys, xj, yj), coef[2,5]*f0(xs, ys, xj, yj), coef[3,11]*f1(xs, ys, xj, yj)\n",
    "\n",
    "#plot(axs, ays, a1, a2)\n",
    "#plot(axj, ayj, a3, a4)"
   ]
  },
  {
   "cell_type": "code",
   "execution_count": 8,
   "metadata": {},
   "outputs": [
    {
     "data": {
      "image/png": "[encoded data removed]",
      "text/plain": [
       "<Figure size 864x396 with 2 Axes>"
      ]
     },
     "metadata": {
      "needs_background": "light"
     },
     "output_type": "display_data"
    }
   ],
   "source": [
    "from funcs import *\n",
    "\n",
    "plot2(axs, ays, 'Sun', axj, ayj, 'Jupiter', a1, a2, a3, a4)"
   ]
  },
  {
   "cell_type": "markdown",
   "metadata": {},
   "source": [
    "Using Spectral diff"
   ]
  },
  {
   "cell_type": "code",
   "execution_count": 11,
   "metadata": {},
   "outputs": [
    {
     "name": "stdout",
     "output_type": "stream",
     "text": [
      "x1' = 0.038 f0(x2,y2)\n",
      "y1' = 0.038 f1(x2,y2)\n",
      "x2' = -39.407 f0(x2,y2) + 0.018 f1(x2,y2)\n",
      "y2' = -0.021 f0(x2,y2) + -39.410 f1(x2,y2)\n",
      "[[ 0.00000000e+00  0.00000000e+00  0.00000000e+00  0.00000000e+00\n",
      "   0.00000000e+00  3.76242162e-02  0.00000000e+00  0.00000000e+00\n",
      "   0.00000000e+00  0.00000000e+00  0.00000000e+00  0.00000000e+00]\n",
      " [ 0.00000000e+00  0.00000000e+00  0.00000000e+00  0.00000000e+00\n",
      "   0.00000000e+00  0.00000000e+00  0.00000000e+00  0.00000000e+00\n",
      "   0.00000000e+00  0.00000000e+00  0.00000000e+00  3.76281184e-02]\n",
      " [ 0.00000000e+00  0.00000000e+00  0.00000000e+00  0.00000000e+00\n",
      "   0.00000000e+00 -3.94070470e+01  0.00000000e+00  0.00000000e+00\n",
      "   0.00000000e+00  0.00000000e+00  0.00000000e+00  1.78476404e-02]\n",
      " [ 0.00000000e+00  0.00000000e+00  0.00000000e+00  0.00000000e+00\n",
      "   0.00000000e+00 -2.08317156e-02  0.00000000e+00  0.00000000e+00\n",
      "   0.00000000e+00  0.00000000e+00  0.00000000e+00 -3.94104545e+01]]\n",
      "(4, 12)\n"
     ]
    },
    {
     "name": "stderr",
     "output_type": "stream",
     "text": [
      "C:\\Users\\tobia\\anaconda3\\lib\\site-packages\\sklearn\\linear_model\\_ridge.py:147: LinAlgWarning: Ill-conditioned matrix (rcond=8.22066e-28): result may not be accurate.\n",
      "  return linalg.solve(A, Xy, sym_pos=True,\n",
      "C:\\Users\\tobia\\anaconda3\\lib\\site-packages\\sklearn\\linear_model\\_ridge.py:147: LinAlgWarning: Ill-conditioned matrix (rcond=8.22066e-28): result may not be accurate.\n",
      "  return linalg.solve(A, Xy, sym_pos=True,\n",
      "C:\\Users\\tobia\\anaconda3\\lib\\site-packages\\sklearn\\linear_model\\_ridge.py:147: LinAlgWarning: Ill-conditioned matrix (rcond=8.22066e-28): result may not be accurate.\n",
      "  return linalg.solve(A, Xy, sym_pos=True,\n",
      "C:\\Users\\tobia\\anaconda3\\lib\\site-packages\\sklearn\\linear_model\\_ridge.py:147: LinAlgWarning: Ill-conditioned matrix (rcond=8.22066e-28): result may not be accurate.\n",
      "  return linalg.solve(A, Xy, sym_pos=True,\n"
     ]
    }
   ],
   "source": [
    "functions = [lambda x1, y1, x2, y2: (x2-x1)/((x2-x1)**2+(y2-y1)**2)**(3/2), \n",
    "             lambda x1, y1, x2, y2: (y2-y1)/((x2-x1)**2+(y2-y1)**2)**(3/2)]\n",
    "diff_method = ps.SINDyDerivative(kind='spectral')\n",
    "\n",
    "optimizer = ps.STLSQ(threshold=1e-2)\n",
    "t = np.arange(0, pos.shape[0], 1)\n",
    "\n",
    "model = ps.SINDy(\n",
    "        differentiation_method=diff_method,\n",
    "        feature_library = lib_custom, \n",
    "        optimizer=optimizer,\n",
    "        feature_names = ['x1', 'y1', 'x2', 'y2'])\n",
    "\n",
    "model.fit(pos, t=t, x_dot=acc)\n",
    "model.print()\n",
    "coef = model.coefficients()\n",
    "print(coef)\n",
    "print(coef.shape)"
   ]
  },
  {
   "cell_type": "markdown",
   "metadata": {},
   "source": [
    "Using SR3 optimizer"
   ]
  },
  {
   "cell_type": "code",
   "execution_count": 51,
   "metadata": {},
   "outputs": [
    {
     "name": "stdout",
     "output_type": "stream",
     "text": [
      "x1'' = 0.038 f0(x2,y2)\n",
      "y1'' = 0.038 f1(x2,y2)\n",
      "x2'' = -39.407 f0(x2,y2) + 0.018 f1(x2,y2)\n",
      "y2'' = -0.021 f0(x2,y2) + -39.410 f1(x2,y2)\n",
      "[[ 0.00000000e+00  0.00000000e+00  0.00000000e+00  0.00000000e+00\n",
      "   0.00000000e+00  3.76242162e-02  0.00000000e+00  0.00000000e+00\n",
      "   0.00000000e+00  0.00000000e+00  0.00000000e+00  0.00000000e+00]\n",
      " [ 0.00000000e+00  0.00000000e+00  0.00000000e+00  0.00000000e+00\n",
      "   0.00000000e+00  0.00000000e+00  0.00000000e+00  0.00000000e+00\n",
      "   0.00000000e+00  0.00000000e+00  0.00000000e+00  3.76281184e-02]\n",
      " [ 0.00000000e+00  0.00000000e+00  0.00000000e+00  0.00000000e+00\n",
      "   0.00000000e+00 -3.94070470e+01  0.00000000e+00  0.00000000e+00\n",
      "   0.00000000e+00  0.00000000e+00  0.00000000e+00  1.78476404e-02]\n",
      " [ 0.00000000e+00  0.00000000e+00  0.00000000e+00  0.00000000e+00\n",
      "   0.00000000e+00 -2.08317156e-02  0.00000000e+00  0.00000000e+00\n",
      "   0.00000000e+00  0.00000000e+00  0.00000000e+00 -3.94104545e+01]]\n",
      "(4, 12)\n"
     ]
    }
   ],
   "source": [
    "functions = [\n",
    "    lambda x1, y1, x2, y2: (x2-x1)/((x2-x1)**2+(y2-y1)**2)**(3/2), \n",
    "    lambda x1, y1, x2, y2: (y2-y1)/((x2-x1)**2+(y2-y1)**2)**(3/2)\n",
    "    ]\n",
    "\n",
    "optimizer = ps.SR3(threshold=1e-2, nu=1e-1)\n",
    "t = np.arange(0, pos.shape[0], 1)\n",
    "\n",
    "model = ps.SINDy(\n",
    "        feature_library = lib_custom, \n",
    "        optimizer=optimizer,\n",
    "        feature_names = ['x1', 'y1', 'x2', 'y2'])\n",
    "\n",
    "model.fit(pos, t=t, x_dot=acc)\n",
    "model.print(lhs=[\"x1''\", \"y1''\", \"x2''\", \"y2''\"])\n",
    "coef = model.coefficients()\n",
    "print(coef)\n",
    "print(coef.shape)"
   ]
  },
  {
   "cell_type": "code",
   "execution_count": null,
   "metadata": {},
   "outputs": [],
   "source": []
  }
 ],
 "metadata": {
  "kernelspec": {
   "display_name": "Python 3",
   "language": "python",
   "name": "python3"
  },
  "language_info": {
   "codemirror_mode": {
    "name": "ipython",
    "version": 3
   },
   "file_extension": ".py",
   "mimetype": "text/x-python",
   "name": "python",
   "nbconvert_exporter": "python",
   "pygments_lexer": "ipython3",
   "version": "3.8.5"
  }
 },
 "nbformat": 4,
 "nbformat_minor": 4
}
