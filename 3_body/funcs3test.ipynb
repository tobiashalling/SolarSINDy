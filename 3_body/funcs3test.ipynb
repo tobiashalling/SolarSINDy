{
 "cells": [
  {
   "cell_type": "code",
   "execution_count": 1,
   "metadata": {
    "id": "I6sBz9bIup0Q"
   },
   "outputs": [],
   "source": [
    "from funcs3 import *\n",
    "\n",
    "pl = np.load('JSSpos_1mil.npy')\n",
    "xlsun, ylsun = pl[:, 0], pl[:, 1]\n",
    "xljup, yljup = pl[:, 2], pl[:, 3]\n",
    "xlsat, ylsat = pl[:, 4], pl[:, 5]\n",
    "vl = np.load('JSSvel_1mil.npy')\n",
    "al = np.load('JSSacc_1mil.npy')\n",
    "alxsun, alysun = al[:, 0], al[:, 1]\n",
    "alxjup, alyjup = al[:, 2], al[:, 3]\n",
    "alxsat, alysat = al[:, 4], al[:, 5]"
   ]
  },
  {
   "cell_type": "code",
   "execution_count": 2,
   "metadata": {},
   "outputs": [
    {
     "name": "stdout",
     "output_type": "stream",
     "text": [
      "x1'' = 0.038 f0(x0,x1,x2,x3,x4,x5) + 0.011 f2(x0,x1,x2,x3,x4,x5)\n",
      "y1'' = 0.038 f1(x0,x1,x2,x3,x4,x5) + 0.011 f3(x0,x1,x2,x3,x4,x5)\n",
      "x2'' = -39.480 f0(x0,x1,x2,x3,x4,x5) + 0.011 f4(x0,x1,x2,x3,x4,x5)\n",
      "y2'' = -39.480 f1(x0,x1,x2,x3,x4,x5) + 0.011 f5(x0,x1,x2,x3,x4,x5)\n",
      "x3'' = -39.480 f2(x0,x1,x2,x3,x4,x5) + -0.038 f4(x0,x1,x2,x3,x4,x5)\n",
      "y3'' = -39.480 f3(x0,x1,x2,x3,x4,x5) + -0.038 f5(x0,x1,x2,x3,x4,x5)\n",
      "[[ 3.76859355e-02  0.00000000e+00  1.12835590e-02  0.00000000e+00\n",
      "   0.00000000e+00  0.00000000e+00]\n",
      " [ 0.00000000e+00  3.76859415e-02  0.00000000e+00  1.12835608e-02\n",
      "   0.00000000e+00  0.00000000e+00]\n",
      " [-3.94796994e+01  0.00000000e+00  0.00000000e+00  0.00000000e+00\n",
      "   1.12761871e-02  0.00000000e+00]\n",
      " [ 0.00000000e+00 -3.94797057e+01  0.00000000e+00  0.00000000e+00\n",
      "   0.00000000e+00  1.12762060e-02]\n",
      " [ 0.00000000e+00  0.00000000e+00 -3.94796999e+01  0.00000000e+00\n",
      "  -3.76884303e-02  0.00000000e+00]\n",
      " [ 0.00000000e+00  0.00000000e+00  0.00000000e+00 -3.94797056e+01\n",
      "   0.00000000e+00 -3.76854471e-02]]\n"
     ]
    }
   ],
   "source": [
    "sindy(3, pl, al, 1e-2)"
   ]
  },
  {
   "cell_type": "code",
   "execution_count": 3,
   "metadata": {},
   "outputs": [
    {
     "name": "stdout",
     "output_type": "stream",
     "text": [
      "Number of bodies not supported\n"
     ]
    }
   ],
   "source": [
    "sindy(4, pl, al, 1e-2)"
   ]
  },
  {
   "cell_type": "code",
   "execution_count": null,
   "metadata": {},
   "outputs": [],
   "source": []
  }
 ],
 "metadata": {
  "colab": {
   "authorship_tag": "ABX9TyOYPpg7AdvplmQRhtSivIxH",
   "name": "funcs3test.ipynb",
   "provenance": []
  },
  "kernelspec": {
   "display_name": "Python 3",
   "language": "python",
   "name": "python3"
  },
  "language_info": {
   "codemirror_mode": {
    "name": "ipython",
    "version": 3
   },
   "file_extension": ".py",
   "mimetype": "text/x-python",
   "name": "python",
   "nbconvert_exporter": "python",
   "pygments_lexer": "ipython3",
   "version": "3.8.5"
  }
 },
 "nbformat": 4,
 "nbformat_minor": 1
}
