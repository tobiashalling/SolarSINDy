{
 "cells": [
  {
   "cell_type": "code",
   "execution_count": 1,
   "metadata": {
    "hide_input": false
   },
   "outputs": [],
   "source": [
    "from IPython.display import HTML\n",
    "from IPython.display import display\n",
    "\n",
    "import numpy as np\n",
    "from math import *\n",
    "from numba import njit\n",
    "np.set_printoptions(linewidth=np.inf)\n",
    "\n",
    "from matplotlib import pyplot as plt\n",
    "#%matplotlib notebook"
   ]
  },
  {
   "cell_type": "markdown",
   "metadata": {},
   "source": [
    "# Simulation of Pseudo-random Planetary Systems\n",
    "\n",
    "This is the primary notebook for generating Planetary systems, with variying paramters for each iteration of simulation.  This is in part the **distribution of mass**, the **initial distances** for bodies in orbit around a central star and the **abundance** of these bodies.\n",
    "\n",
    "----------------------\n",
    "\n",
    "The first part of this notebook, will go over the generation of pseudorandom parameters for each group of bodies in the system. Where the groups are sequentially the central star, the inner planets and the outer planets. The definitions of these groups, are linked to specific intervals, derived in the Bachelor project this notebook is attached to. We will however note that these values can be arbitrary, although we do not recommend changing these values much more than those found in real planetary systems, as that would most likely lead to non-stable orbiting systems.\n",
    "\n",
    "\n",
    "The initial statements for each group are arranged into three-dimentional arrays. From this it is possible to calculate the gravitational force on the *i'th* body from every other body in the system, for every timestep. Which in turn makes it possible to determine the acceleration value of each body.\n",
    "\n",
    "Given the initial statements of the system, it is possible to calculate the following values for the time, position and velocity a time step later by applying the *Leap-Frog method*. \n",
    "\n",
    "Thus the general data which can be optained from this simualtion is in the form of three-dimentional arrays, of the positions, velocities, accelerations and forces of each body at each timestep.\n",
    "\n",
    "-----------\n",
    "\n",
    "*We encourage the reader to look at the code and accompanying explinations for the best utilization of the data generated.*"
   ]
  },
  {
   "cell_type": "markdown",
   "metadata": {},
   "source": [
    "### Physical  constants\n",
    "\n",
    "First and foremost, some general physical constants are defined and scaled to astronomical size. These constants are used in later equations. \n",
    "\n",
    "We have the gravitational constant `G` which is in units of $\\text{AU}^{3} \\text{solarmasses}^{-1} \\text{years}^{-2}$. Next we have one solar mass `M` in the units of kilograms."
   ]
  },
  {
   "cell_type": "code",
   "execution_count": 2,
   "metadata": {
    "tags": [
     "hide-input"
    ]
   },
   "outputs": [],
   "source": [
    "G = 39.47970417034628\n",
    "M = 1.98855e30 "
   ]
  },
  {
   "cell_type": "markdown",
   "metadata": {},
   "source": [
    "###  Structure of the System\n",
    "\n",
    "We start by determining the number of bodies `num_bodies` that will be in the system. This is done by executing the first command `np.int(np.random.uniform())` which will return a random integer between 3 and 5. Next we define the number of dimensions the system will have and set that to three.\n",
    "\n",
    "--------------\n",
    "\n",
    "For our groups we need to define some values. We deine a number of arrays of zeroes for respectively the position, velocity, acceleration, force and mass. We also had to write up some arrays which hold some of the initial properties of system - the initial velocity `init_vel`, perihelion distance `rp`, aphelion distance `ra`, semi-major axis `a` and eccintricity `e`. This is to place our simulated data into."
   ]
  },
  {
   "cell_type": "code",
   "execution_count": 3,
   "metadata": {},
   "outputs": [],
   "source": [
    "num_bodies = np.int(np.random.uniform(3,6,1))\n",
    "#num_bodies = 5\n",
    "dimension  = 3\n",
    "\n",
    "# Main Arrays\n",
    "pos   = np.zeros((num_bodies, dimension))\n",
    "vel   = np.zeros((num_bodies, dimension))\n",
    "acc   = np.zeros((num_bodies, dimension))\n",
    "force = np.zeros((num_bodies, dimension))\n",
    "mass  = np.zeros((num_bodies))\n",
    "\n",
    "# Initial Properties\n",
    "init_vel = np.zeros((num_bodies))\n",
    "r_pe     = np.zeros((num_bodies))\n",
    "r_ap     = np.zeros((num_bodies))\n",
    "a        = np.zeros((num_bodies))\n",
    "e        = np.zeros((num_bodies))\n",
    "\n",
    "# Arrays for plotting\n",
    "inpos = np.zeros((num_bodies, dimension))\n",
    "invel = np.zeros((num_bodies, dimension))"
   ]
  },
  {
   "cell_type": "markdown",
   "metadata": {},
   "source": [
    "### Assigning values for the mass\n",
    "\n",
    "We define our 0'th element in our array `mass` to be our central star. We assign a random value between $\\texttt{1.5e30/M}$ and $\\texttt{2.5e30/M}$. From the 1'st to the 3'rd element in the same array, we define the masse of the inner planets a random value between $\\texttt{3e23/M}$ and $\\texttt{6e24/M}$. Lastly from the 4'th element and onwards in the array, we define the masses of the outer planets to a random value between $\\texttt{10e25/M}$ and $\\texttt{6e26/M}$.\n",
    "\n",
    "This step is pretty straight forward, and we can print `mass` to see our array of values."
   ]
  },
  {
   "cell_type": "code",
   "execution_count": 4,
   "metadata": {
    "scrolled": true
   },
   "outputs": [
    {
     "name": "stdout",
     "output_type": "stream",
     "text": [
      "masses:\n",
      "[1.12729964e+00 2.23700406e-06 8.25185149e-07 9.87483428e-05]\n"
     ]
    }
   ],
   "source": [
    "# Central Star\n",
    "mass[0] = np.random.uniform(1.5e30/M, 2.5e30/M, 1)\n",
    "\n",
    "# Inner Planets\n",
    "mass[1:] = np.random.uniform(3e23/M, 6e24/M, num_bodies-1)\n",
    "\n",
    "# Outer Planets\n",
    "mass[3:] = np.random.uniform(10e25/M, 6e26/M, num_bodies-3)\n",
    "\n",
    "print('masses:')\n",
    "print(mass)"
   ]
  },
  {
   "cell_type": "markdown",
   "metadata": {},
   "source": [
    "### Assigning values for the distances and calculating the initial velocities\n",
    "\n",
    "One of the assumptions for our system is that the central star (the 0'th element) is located at zero, i.e. we don't need to assign some distance value for it. \n",
    "\n",
    "Thus we start by creating a loop which assigns a perihelion and aphelion distance in the range of $\\texttt{0.5}$ to $\\texttt{1.5}$ for elements $\\texttt{1}$ to $\\texttt{2}$ in the arrays `r_pe` and `r_ap` respectively. The aphelion distances needs to be larger by definition, thus we define it as the perihelion plus some small number. These distances are for the group of inner planets. These steps are fundamentally the same for the outer planets, although we only look at elemets which are $m\\leq3$.\n",
    "\n",
    "Next one has to determine the initial velocities for the elemets at the assigned distances. Much like for the distances, we also assume that the central star has zero initial velocity, i.e we start from the 1'st element. We place these values into both our `pos` and `vel` arrays - note we place each planet at their perihelion distances, noted as `r_pe`.\n",
    "\n",
    "Lastly we need to minus the velocity of the center of mass for the system, on each element in the system. This is done on the line `CM_vel_x = np.sum((vel[:,0]*mass))/np.sum(mass)`."
   ]
  },
  {
   "cell_type": "code",
   "execution_count": 5,
   "metadata": {
    "hide_input": false,
    "scrolled": true
   },
   "outputs": [
    {
     "name": "stdout",
     "output_type": "stream",
     "text": [
      "eccentricity:\n",
      "[0.         0.02060607 0.04609957 0.0295256 ]\n"
     ]
    }
   ],
   "source": [
    "# Inner Planets\n",
    "for m in range(1,num_bodies):\n",
    "    r_pe[m] = np.random.uniform(0.7, 1.8, 1)\n",
    "    if m>1:\n",
    "        r_pe[m] = r_pe[m]+r_pe[m-1]\n",
    "    r_ap[m] = r_pe[m]+np.random.uniform(0,0.2,1)\n",
    "\n",
    "    \n",
    "# Outer Planets \n",
    "for m in range(3,num_bodies):\n",
    "    r_pe[m] = np.random.uniform(6, 9, 1) \n",
    "    if m>3:\n",
    "        r_pe[m] = r_pe[m]+r_pe[m-1]\n",
    "    r_ap[m] = r_pe[m]+np.random.uniform(1,1.5,1)\n",
    "\n",
    "\n",
    "# Initial Velocities\n",
    "for m in range(1,num_bodies):\n",
    "    e[m] = np.random.uniform(0,0.05, 1) \n",
    "    a[m] = (r_pe[m] + r_ap[m])/2\n",
    "    init_vel[m] = np.sqrt(((G*mass[0])/(a[m]))*((1+e[m])/(1-e[m])))\n",
    "    \n",
    "\n",
    "pos[:,1] = r_pe\n",
    "vel[:,0] = init_vel\n",
    "\n",
    "\n",
    "# Velocity of the Center of Mass\n",
    "CM_vel_x = np.sum((vel[:,0]*mass))/np.sum(mass)\n",
    "vel[:,0] = vel[:,0]-CM_vel_x\n",
    "\n",
    "print('eccentricity:')\n",
    "print(e)"
   ]
  },
  {
   "cell_type": "markdown",
   "metadata": {
    "hide_input": false
   },
   "source": [
    "### Plot of initial Positions\n",
    "\n",
    "For visualization purposes, we can plot the initial positions of the bodies, at their randomly generated perihelion distances. We see that the central star is located at the position zero, and preceding planets are plotted along the x-axis. The code is not importent in itself, it is just for visualization purposes."
   ]
  },
  {
   "cell_type": "code",
   "execution_count": 6,
   "metadata": {
    "cell_style": "center",
    "hide_input": true
   },
   "outputs": [
    {
     "data": {
      "text/plain": [
       "Text(0, 0.5, 'AU')"
      ]
     },
     "execution_count": 6,
     "metadata": {},
     "output_type": "execute_result"
    },
    {
     "data": {
      "image/png": "[encoded data removed]",
      "text/plain": [
       "<Figure size 576x72 with 1 Axes>"
      ]
     },
     "metadata": {
      "needs_background": "light"
     },
     "output_type": "display_data"
    }
   ],
   "source": [
    "inpos[:,1] = r_pe\n",
    "invel[:,0] = init_vel\n",
    "\n",
    "plt.figure(figsize=(8, 1))\n",
    "ax3 = plt.subplot(111)\n",
    "\n",
    "ax3.plot(inpos[0,1],inpos[0,0],'*',)\n",
    "ax3.plot(inpos[1,1],inpos[1,0],'*',)\n",
    "ax3.plot(inpos[2,1],inpos[2,0],'*',)\n",
    "if num_bodies > 3:\n",
    "    ax3.plot(inpos[3,1],inpos[3,0],'*',)\n",
    "    \n",
    "if num_bodies > 4:\n",
    "    ax3.plot(inpos[4,1],inpos[4,0],'*',)\n",
    "\n",
    "ax3.set_title('Initial Planetary Positions')\n",
    "x = [inpos[0,1], inpos[1,1], inpos[2,1]]\n",
    "if num_bodies > 3:\n",
    "    x = [inpos[0,1], inpos[1,1], inpos[2,1], inpos[2,1], inpos[3,1]] \n",
    "\n",
    "if num_bodies > 4:\n",
    "    x = [inpos[0,1], inpos[1,1], inpos[2,1], inpos[2,1], inpos[3,1], inpos[4,1]]\n",
    "    \n",
    "plt.xticks(x)\n",
    "plt.grid(axis='x', linestyle='-')\n",
    "\n",
    "plt.xlabel(\"AU\")\n",
    "plt.ylabel(\"AU\")"
   ]
  },
  {
   "cell_type": "markdown",
   "metadata": {},
   "source": [
    "### Force Function\n",
    "\n",
    "Next we have to define the force each body has on every other body in the system. To do this we define a function `grav_force` which has elements of position, mass and force. We define `num_bodies` and `D` to be the magnitudes of `pos`'s dimentions.\n",
    "\n",
    "We make a loop where for the i'th element in `num_bodies` we define a three dimentional array of zeros. Then we can calculate the force on the i'th element from every other element. This is done by a loop where we look at the j'th element in `num_bodies` for which is not equal to i. From here it is possible to calculate `force[i]` from Newtons law of Universal Gravitation."
   ]
  },
  {
   "cell_type": "code",
   "execution_count": 7,
   "metadata": {},
   "outputs": [],
   "source": [
    "@njit\n",
    "def grav_force(pos, mass, force): \n",
    "    num_bodies, D = pos.shape \n",
    "    for i in np.arange(num_bodies): \n",
    "        force[i] = np.zeros(D) \n",
    "        \n",
    "        for j in np.arange(num_bodies):\n",
    "            if j!=i:\n",
    "                r_vec = pos[i]-pos[j]\n",
    "                r_mag = np.linalg.norm(r_vec)\n",
    "                r_hat = r_vec/r_mag\n",
    "                force[i] += (-G*mass[i]*mass[j])/(r_mag**2)*r_hat"
   ]
  },
  {
   "cell_type": "markdown",
   "metadata": {},
   "source": [
    "### Leapfrog Function\n",
    "\n",
    "The next order of buisness is to define the Leapfrog function. This is the primary function , which will allow one to calculate the positions and velocities for each interacting body in the system. The setup mimics the same idea that we write upsome arrays for times, positions, velocities and accelerations. \n",
    "\n",
    "Next we calculatethe positions and velocities in a for loop using the equations from the Leapfrog method. A detailed explaination of the assumptions and setup of the Leapfrog method can be seen in the project assosiated with this code."
   ]
  },
  {
   "cell_type": "code",
   "execution_count": 8,
   "metadata": {},
   "outputs": [],
   "source": [
    "@njit\n",
    "def leapfrog(pos, mass, vel, force, sim_time, dt, outsteps):\n",
    "    num_steps = ceil((sim_time/dt)/outsteps)\n",
    "    num_bodies, D = pos.shape\n",
    "\n",
    "    times = np.zeros((num_steps))\n",
    "    positions = np.zeros((num_steps, num_bodies, D))\n",
    "    velocities = np.zeros((num_steps, num_bodies, D))\n",
    "    accelerations = np.zeros((num_steps, num_bodies, D))\n",
    "    time = 0\n",
    "    \n",
    "    for step in range(num_steps):\n",
    "        for i in range(outsteps):\n",
    "            time += dt\n",
    "            grav_force(pos, mass, force)\n",
    "            acc = (force.T/mass).T\n",
    "            vel += acc*dt\n",
    "            pos += vel*dt\n",
    "        \n",
    "        times[step] = time \n",
    "        positions[step] = pos\n",
    "        velocities[step] = vel\n",
    "        accelerations[step] = acc\n",
    "    \n",
    "    return times, positions, velocities, accelerations"
   ]
  },
  {
   "cell_type": "code",
   "execution_count": 9,
   "metadata": {},
   "outputs": [
    {
     "name": "stdout",
     "output_type": "stream",
     "text": [
      "Wall time: 9.51 s\n"
     ]
    }
   ],
   "source": [
    "times, positions, velocities, accelerations = leapfrog(pos, mass, vel, acc, 100, 1e-4, 10)\n",
    "\n",
    "%time _ = leapfrog(pos, mass, vel, acc, 100, 1e-4, 10)"
   ]
  },
  {
   "cell_type": "markdown",
   "metadata": {},
   "source": [
    "### Plot the Positions of the System\n",
    "This code is for plotting the positions of the data - one can change the amount of time the simulation will have to run, in the cell above."
   ]
  },
  {
   "cell_type": "code",
   "execution_count": 10,
   "metadata": {},
   "outputs": [
    {
     "name": "stdout",
     "output_type": "stream",
     "text": [
      "num_bodies: 4\n"
     ]
    },
    {
     "data": {
      "text/plain": [
       "Text(0, 0.5, 'AU')"
      ]
     },
     "execution_count": 10,
     "metadata": {},
     "output_type": "execute_result"
    },
    {
     "data": {
      "image/png": "[encoded data removed]",
      "text/plain": [
       "<Figure size 432x432 with 1 Axes>"
      ]
     },
     "metadata": {
      "needs_background": "light"
     },
     "output_type": "display_data"
    }
   ],
   "source": [
    "print('num_bodies:',num_bodies)\n",
    "\n",
    "plt.figure(figsize=(6, 6))\n",
    "plt.plot(positions[:,:,0],positions[:,:,1],'-')\n",
    "plt.title('Oribits of Generated Planerary System')\n",
    "\n",
    "plt.xlabel(\"AU\")\n",
    "plt.ylabel(\"AU\")"
   ]
  },
  {
   "cell_type": "markdown",
   "metadata": {
    "hide_input": true
   },
   "source": [
    "### Save generated data\n",
    "\n",
    "The following code saves the data. It is saved as \"x\" and an abbreviation of positions, velocities and acceleration, to wherever this file is located on ones computer."
   ]
  },
  {
   "cell_type": "code",
   "execution_count": 11,
   "metadata": {
    "hide_input": false,
    "scrolled": true
   },
   "outputs": [],
   "source": [
    "xpos = np.array([positions[:,0,0],positions[:,0,1],positions[:,1,0],positions[:,1,1],positions[:,2,0],positions[:,2,1]])\n",
    "xpos = xpos.T\n",
    "xvel = np.array([velocities[:,0,0],velocities[:,0,1],velocities[:,1,0],velocities[:,1,1],velocities[:,2,0],velocities[:,2,1]])\n",
    "xvel = xvel.T\n",
    "xacc = np.array([accelerations[:,0,0],accelerations[:,0,1],accelerations[:,1,0],accelerations[:,1,1],accelerations[:,2,0],accelerations[:,2,1]])\n",
    "xacc = xacc.T\n",
    "\n",
    "if num_bodies > 3:\n",
    "    xpos = np.array([positions[:,0,0],positions[:,0,1],positions[:,1,0],positions[:,1,1],positions[:,2,0],positions[:,2,1],positions[:,3,0],positions[:,3,1]])\n",
    "    xpos = xpos.T\n",
    "    xvel = np.array([velocities[:,0,0],velocities[:,0,1],velocities[:,1,0],velocities[:,1,1],velocities[:,2,0],velocities[:,2,1],velocities[:,3,0],velocities[:,3,1]])\n",
    "    xvel = xvel.T\n",
    "    xacc = np.array([accelerations[:,0,0],accelerations[:,0,1],accelerations[:,1,0],accelerations[:,1,1],accelerations[:,2,0],accelerations[:,2,1],accelerations[:,3,0],accelerations[:,3,1]])\n",
    "    xacc = xacc.T\n",
    "\n",
    "if num_bodies > 4:\n",
    "    xpos = np.array([positions[:,0,0],positions[:,0,1],positions[:,1,0],positions[:,1,1],positions[:,2,0],positions[:,2,1],positions[:,3,0],positions[:,3,1],positions[:,4,0],positions[:,4,1]])\n",
    "    xpos = xpos.T\n",
    "    xvel = np.array([velocities[:,0,0],velocities[:,0,1],velocities[:,1,0],velocities[:,1,1],velocities[:,2,0],velocities[:,2,1],velocities[:,3,0],velocities[:,3,1],velocities[:,4,0],velocities[:,4,1]])\n",
    "    xvel = xvel.T\n",
    "    xacc = np.array([accelerations[:,0,0],accelerations[:,0,1],accelerations[:,1,0],accelerations[:,1,1],accelerations[:,2,0],accelerations[:,2,1],accelerations[:,3,0],accelerations[:,3,1],accelerations[:,4,0],accelerations[:,4,1]])\n",
    "    xacc = xacc.T\n",
    "\n",
    "np.save('xpos.npy', xpos)\n",
    "np.save('xvel.npy', xvel)\n",
    "np.save('xacc.npy', xacc)"
   ]
  }
 ],
 "metadata": {
  "kernelspec": {
   "display_name": "Python 3",
   "language": "python",
   "name": "python3"
  },
  "language_info": {
   "codemirror_mode": {
    "name": "ipython",
    "version": 3
   },
   "file_extension": ".py",
   "mimetype": "text/x-python",
   "name": "python",
   "nbconvert_exporter": "python",
   "pygments_lexer": "ipython3",
   "version": "3.8.3"
  }
 },
 "nbformat": 4,
 "nbformat_minor": 4
}
