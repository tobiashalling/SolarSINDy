{
 "cells": [
  {
   "cell_type": "code",
   "execution_count": 2,
   "metadata": {},
   "outputs": [
    {
     "name": "stdout",
     "output_type": "stream",
     "text": [
      "done\n"
     ]
    }
   ],
   "source": [
    "from math import *\n",
    "import numpy as np\n",
    "\n",
    "G_SI = 6.67408e-11      #Gravitational constant in (m^3 kg^-1 s^-2)\n",
    "M = 1.98855e30          #Solar mass in kg\n",
    "L = 149597870700        #AU in m\n",
    "T = 365.256*24*3600     #Sidereal year in seconds\n",
    "m_E = 5.972e24 / M      #Earth-mass in solar units\n",
    "m_S = 1.98855e30 / M    #Solar mass: 1 in solar units\n",
    "m_J = 1.898e27 / M      #Jupiter mass in solar units\n",
    "day = 24*3600 / T       #A day in our chosen time unit, for convenience\n",
    "G = G_SI*M*T**2/L**3    #G in in AU^3 solarmasses^-1 years^-2\n",
    "c = 63239.7263          #Speed of light in AU/year\n",
    "alfa = 0\n",
    "beta = 0\n",
    "\n",
    "#initial conditions-------------------------------------------------------------\n",
    "\n",
    "rp_E = 0.9                                  #Perihelion for Earth\n",
    "ra_E = 1.1                                  #Aphelion for Earth\n",
    "a_E = (ra_E+rp_E)/2                         #Semi-major axis for Earth\n",
    "init_E = sqrt(m_S*G*((2/ra_E)-(1/a_E)))     #Find the initial velocity at perihelion for Earth\n",
    "\n",
    "rp_J = 4.9                                  #Perihelion for Jupiter\n",
    "ra_J = 5.5                                  #Aphelion for Jupiter\n",
    "a_J = (ra_J+rp_J)/2                         #Semi-major axis for Jupiter\n",
    "init_J = sqrt(m_S*G*((2/ra_J)-(1/a_J)))     #Find the initial velocity at perihelion for Jupiter\n",
    "\n",
    "Epos_0 = np.array([0,ra_E,0])               #Earths initial position\n",
    "Evel_0 = np.array([init_E, 0, 0])           #Earths initial velocity\n",
    "Jpos_0 = np.array([0,-ra_J,0])              #Jupiters initial position\n",
    "Jvel_0 = np.array([-init_J, 0, 0])          #Jupiters initial velocity\n",
    "Spos_0 = np.array([0,0,0])                  #Suns initial position\n",
    "Svel_0 = np.array([0,0,0])                  #Suns initial velocity\n",
    "#Create body class-------------------------------------------------------------\n",
    "class Body:\n",
    "    def __init__(self, pos, mass, vel):\n",
    "        self.pos=pos\n",
    "        self.mass=mass\n",
    "        self.vel=vel\n",
    "#Define bodies--------------------------------------------------------------------\n",
    "SUN = Body(pos=Spos_0, mass=m_S, vel=Svel_0)\n",
    "Earth = Body(pos=Epos_0, mass=m_E, vel=Evel_0)\n",
    "Jupiter = Body(pos=Jpos_0, mass=m_J, vel=Jvel_0)\n",
    "#Define Force function---------------------------------------------------------------\n",
    "def Force(p1,p2):                                                                                   #Calculates acceleration due to gravitational forces on p1 and p2 (p1 is the particles acceleration)\n",
    "    r_vec = p1.pos-p2.pos                                                                           #Looks for p1 and a value labeled pos in the definition of p1\n",
    "    r_mag = np.linalg.norm(r_vec)                                                                   #Finds magnitude of r\n",
    "    r_hat = r_vec/r_mag                                                                             #Calculates r_hat\n",
    "    Lsqrd   = np.dot(np.cross(p1.pos,p1.vel),np.cross(p1.pos,p1.vel))                               #Finds the angular momentum and squares it for p1\n",
    "    r_Lsqrd = Lsqrd/(c**2)                                                                          #Finds \"the characteristic parameter\" of p1\n",
    "    r_s = (2*G*p2.mass)/c**2\n",
    "    Force = (-(c**2)*r_s)/(2*r_mag**2)*(1+alfa*(r_s/r_mag)+beta*(r_Lsqrd/r_mag**2))*r_hat*p1.mass   # Finds the Force of p1\n",
    "    return Force\n",
    "\n",
    "dt = 1*day      #Timesteps\n",
    "t = 0           #Start time\n",
    "n = 12          #Time limit\n",
    "count = 0\n",
    "size = 1+int(n/dt)\n",
    "Timestep=np.zeros(size)\n",
    "\n",
    "Sun_pos=np.zeros((size,3))\n",
    "Earth_pos=np.zeros((size,3))\n",
    "Jupiter_pos=np.zeros((size,3))\n",
    "\n",
    "Sun_vel=np.zeros((size,3))\n",
    "Earth_vel=np.zeros((size,3))\n",
    "Jupiter_vel=np.zeros((size,3))\n",
    "\n",
    "Sun_Force=np.zeros((size,3))\n",
    "Earth_Force=np.zeros((size,3))\n",
    "Jupiter_Force=np.zeros((size,3))\n",
    "\n",
    "while (t<n):\n",
    "        Timestep[count]=t\n",
    "        Sun_pos[count]=SUN.pos\n",
    "        Earth_pos[count]=Earth.pos\n",
    "        Jupiter_pos[count]=Jupiter.pos\n",
    "        Sun_vel[count]=SUN.vel\n",
    "        Earth_vel[count]=Earth.vel\n",
    "        Jupiter_vel[count]=Jupiter.vel\n",
    "\n",
    "        SUN.Force = Force(SUN,Earth)+Force(SUN,Jupiter)             #Finds acceleration on sun\n",
    "        Earth.Force = Force(Earth,SUN)+Force(Earth,Jupiter)         #Finds acceleration on earth\n",
    "        Jupiter.Force = Force(Jupiter,SUN)+Force(Jupiter,Earth)     #Finds acceleration on Jupiter\n",
    "\n",
    "        Sun_Force[count]=SUN.Force\n",
    "        Earth_Force[count]=Earth.Force\n",
    "        Jupiter_Force[count]=Jupiter.Force\n",
    "\n",
    "        SUN.vel = SUN.vel+(SUN.Force/SUN.mass)*dt                   #Finds next velocity for SUN\n",
    "        Earth.vel = Earth.vel+(Earth.Force/Earth.mass)*dt           #Finds next velocity for Earth\n",
    "        Jupiter.vel = Jupiter.vel+(Jupiter.Force/Jupiter.mass)*dt   #Finds next velocity for Jupiter\n",
    "        \n",
    "        SUN.pos = SUN.pos+SUN.vel*dt                                #Finds the next position for SUN\n",
    "        Earth.pos = Earth.pos+Earth.vel*dt                          #Finds the next position for Earth\n",
    "        Jupiter.pos = Jupiter.pos+Jupiter.vel*dt                    #Finds the next position for Jupiter\n",
    "\n",
    "        t = t+dt                                                    #Goes to next time step\n",
    "        count = count + 1\n",
    "else:\n",
    "    print('done')\n",
    "        \n",
    "\n",
    "#Saves arrays-----------------------------------------------------------------\n",
    "#np.savetxt(\"Sun_pos.csv\", Sun_pos, delimiter=\",\")\n",
    "#np.savetxt(\"Earth_pos.csv\", Earth_pos, delimiter=\",\")\n",
    "#np.savetxt(\"Jupiter_pos.csv\", Jupiter_pos, delimiter=\",\")\n",
    "\n",
    "#np.savetxt(\"Sun_vel.csv\", Sun_vel, delimiter=\",\")\n",
    "#np.savetxt(\"Earth_vel.csv\", Earth_vel, delimiter=\",\")\n",
    "#np.savetxt(\"Jupiter_vel.csv\", Jupiter_vel, delimiter=\",\")\n",
    "\n",
    "#np.savetxt(\"Sun_Force.csv\", Sun_Force, delimiter=\",\")\n",
    "#np.savetxt(\"Earth_Force.csv\", Earth_Force, delimiter=\",\")\n",
    "#np.savetxt(\"Jupiter_Force.csv\", Jupiter_Force, delimiter=\",\")\n",
    "\n",
    "#makes vectors for easy plotting-----------------------------------------------------------------\n",
    "\n",
    "# Save .npy files for SINDy --------------------------------------------------\n",
    "\n",
    "#np.save(\"Sun_pos.npy\", Sun_pos)\n",
    "#np.save(\"Earth_pos.npy\", Earth_pos)\n",
    "#np.save(\"Jupiter_pos.npy\", Jupiter_pos)\n",
    "\n",
    "#np.save(\"Sun_vel.npy\", Sun_vel)\n",
    "#np.save(\"Earth_vel.npy\", Earth_vel)\n",
    "#np.save(\"Jupiter_vel.npy\", Jupiter_vel)\n",
    "\n",
    "#np.save(\"Sun_Force.npy\", Sun_Force)\n",
    "#np.save(\"Earth_Force.npy\", Earth_Force)\n",
    "#np.save(\"Jupiter_Force.npy\", Jupiter_Force)\n"
   ]
  },
  {
   "cell_type": "code",
   "execution_count": 7,
   "metadata": {},
   "outputs": [
    {
     "data": {
      "text/plain": [
       "array([ 0.00000000e+00,  0.00000000e+00, -1.69464731e-12, ...,\n",
       "       -2.91512643e-02, -2.91512846e-02, -2.91513056e-02])"
      ]
     },
     "execution_count": 7,
     "metadata": {},
     "output_type": "execute_result"
    }
   ],
   "source": [
    "Sun_pos[:,0]"
   ]
  },
  {
   "cell_type": "code",
   "execution_count": 10,
   "metadata": {},
   "outputs": [
    {
     "data": {
      "text/plain": [
       "[<matplotlib.lines.Line2D at 0x1f063a90fd0>]"
      ]
     },
     "execution_count": 10,
     "metadata": {},
     "output_type": "execute_result"
    },
    {
     "data": {
      "image/png": "[encoded data removed]",
      "text/plain": [
       "<Figure size 432x288 with 1 Axes>"
      ]
     },
     "metadata": {
      "needs_background": "light"
     },
     "output_type": "display_data"
    }
   ],
   "source": [
    "from matplotlib import pyplot as plt\n",
    "\n",
    "plt.plot(Sun_pos[:,0], Sun_pos[:,1])\n",
    "plt.plot(Earth_pos[:,0], Earth_pos[:,1])\n",
    "plt.plot(Jupiter_pos[:,0], Jupiter_pos[:,1])"
   ]
  },
  {
   "cell_type": "code",
   "execution_count": null,
   "metadata": {},
   "outputs": [],
   "source": []
  }
 ],
 "metadata": {
  "kernelspec": {
   "display_name": "Python 3",
   "language": "python",
   "name": "python3"
  },
  "language_info": {
   "codemirror_mode": {
    "name": "ipython",
    "version": 3
   },
   "file_extension": ".py",
   "mimetype": "text/x-python",
   "name": "python",
   "nbconvert_exporter": "python",
   "pygments_lexer": "ipython3",
   "version": "3.8.5"
  }
 },
 "nbformat": 4,
 "nbformat_minor": 4
}
