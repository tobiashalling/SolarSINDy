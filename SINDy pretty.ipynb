{
 "cells": [
  {
   "cell_type": "markdown",
   "metadata": {},
   "source": [
    "# Using PySINDy to identify 2nd order differential systems\n",
    "\n",
    "In the first underlying cell, the necessary imports and definitions are made."
   ]
  },
  {
   "cell_type": "code",
   "execution_count": 3,
   "metadata": {},
   "outputs": [],
   "source": [
    "import pysindy as ps\n",
    "import numpy as np\n",
    "import matplotlib.pyplot as plt\n",
    "from pysindy.feature_library import ConcatLibrary, CustomLibrary\n",
    "\n",
    "x = np.load('earth_pos.npy')\n",
    "x = np.delete(x, 2, 1) # deletes z-coordinates\n",
    "v = np.load('earth_vel.npy')\n",
    "v = np.delete(v, 2, 1) # deletes z-coordinates\n",
    "\n",
    "t = np.arange(0, x.shape[0], 1) # timesteps in days\n",
    "\n",
    "functions = [lambda x,y : x/(x**2+y**2)**(3/2), lambda x,y : y/(x**2+y**2)**(3/2)] # The specific functions we're looking for\n",
    "lib_custom = CustomLibrary(library_functions=functions) # defines the custom library we want to use\n",
    "lib_concat = ConcatLibrary([lib_custom])"
   ]
  },
  {
   "cell_type": "markdown",
   "metadata": {},
   "source": [
    "The following cell includes the model optimization and model identification. "
   ]
  },
  {
   "cell_type": "code",
   "execution_count": 4,
   "metadata": {},
   "outputs": [
    {
     "name": "stdout",
     "output_type": "stream",
     "text": [
      "Model where we define X_dot (which gives vel)\n",
      "x' = 0.017 f1(x,y)\n",
      "y' = -0.017 f0(x,y)\n",
      "Model where we feed v to SINDy (which gives acc)\n",
      "x' = -0.001 f0(x,y) + 4.122 f1(x,y) + -0.001\n",
      "y' = -4.112 f0(x,y) + 0.001 f1(x,y) + 0.015\n"
     ]
    }
   ],
   "source": [
    "optimizer = ps.STLSQ(threshold=1e-15, fit_intercept=True)\n",
    "\n",
    "model = ps.SINDy( \n",
    "        feature_library = lib_concat, \n",
    "        optimizer=optimizer,\n",
    "        feature_names = ['x', 'y'])\n",
    "\n",
    "xd = np.gradient(x[:, 0], t)\n",
    "yd = np.gradient(x[:, 1], t)\n",
    "dot = np.array([xd, yd]).T # .T is to transpose the array\n",
    "\n",
    "print('Model where we define X_dot (which gives vel)')\n",
    "model.fit(x, t=t, x_dot=dot)\n",
    "model.print()\n",
    "\n",
    "print('Model where we feed v to SINDy (which gives acc)')\n",
    "model.fit(v, t=t)\n",
    "model.print()"
   ]
  },
  {
   "cell_type": "code",
   "execution_count": null,
   "metadata": {},
   "outputs": [],
   "source": []
  }
 ],
 "metadata": {
  "kernelspec": {
   "display_name": "Python 3",
   "language": "python",
   "name": "python3"
  },
  "language_info": {
   "codemirror_mode": {
    "name": "ipython",
    "version": 3
   },
   "file_extension": ".py",
   "mimetype": "text/x-python",
   "name": "python",
   "nbconvert_exporter": "python",
   "pygments_lexer": "ipython3",
   "version": "3.8.5"
  }
 },
 "nbformat": 4,
 "nbformat_minor": 4
}
