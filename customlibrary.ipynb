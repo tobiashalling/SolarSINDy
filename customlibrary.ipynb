{
 "cells": [
  {
   "cell_type": "code",
   "execution_count": 7,
   "metadata": {
    "executionInfo": {
     "elapsed": 1372,
     "status": "ok",
     "timestamp": 1617550693757,
     "user": {
      "displayName": "Tobias Halling",
      "photoUrl": "https://lh3.googleusercontent.com/a-/AOh14Gg-Q7acYjGy5kFt4tb-25Q166S-Nf5BejhfmMmsyA=s64",
      "userId": "03448449147759745699"
     },
     "user_tz": -120
    },
    "id": "JNcgxwM8h-9V"
   },
   "outputs": [],
   "source": [
    "import pysindy as ps\n",
    "import numpy as np\n",
    "from pysindy.feature_library import PolynomialLibrary, CustomLibrary\n",
    "from pysindy.feature_library import ConcatLibrary\n",
    "\n",
    "functions = [lambda x : 1/x^3, lambda y : 1/y^3]\n",
    "lib_poly = PolynomialLibrary\n",
    "lib_custom = CustomLibrary(library_functions=functions)\n",
    "lib_concat = ConcatLibrary([lib_poly, lib_custom])\n",
    "\n",
    "model = ps.SINDy(\n",
    "    feature_library = lib_concat\n",
    ")"
   ]
  },
  {
   "cell_type": "code",
   "execution_count": null,
   "metadata": {},
   "outputs": [],
   "source": []
  }
 ],
 "metadata": {
  "colab": {
   "authorship_tag": "ABX9TyMr0cxGq5cdPj+gXejM5XHP",
   "name": "customlibrary.ipynb",
   "provenance": []
  },
  "kernelspec": {
   "display_name": "Python 3",
   "language": "python",
   "name": "python3"
  },
  "language_info": {
   "codemirror_mode": {
    "name": "ipython",
    "version": 3
   },
   "file_extension": ".py",
   "mimetype": "text/x-python",
   "name": "python",
   "nbconvert_exporter": "python",
   "pygments_lexer": "ipython3",
   "version": "3.8.5"
  }
 },
 "nbformat": 4,
 "nbformat_minor": 1
}
